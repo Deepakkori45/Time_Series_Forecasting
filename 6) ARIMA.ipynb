{
  "cells": [
    {
      "cell_type": "code",
      "execution_count": 238,
      "id": "c0fa0de6",
      "metadata": {
        "id": "c0fa0de6"
      },
      "outputs": [],
      "source": [
        "import numpy as np\n",
        "import matplotlib.pyplot as plt\n",
        "import statsmodels.api as sms\n",
        "import pandas as pd\n",
        "\n",
        "%matplotlib inline"
      ]
    },
    {
      "cell_type": "code",
      "execution_count": 239,
      "id": "d532053e",
      "metadata": {
        "colab": {
          "base_uri": "https://localhost:8080/",
          "height": 206
        },
        "id": "d532053e",
        "outputId": "38876054-e426-48a8-a68c-50eb3e2f80d6"
      },
      "outputs": [
        {
          "output_type": "execute_result",
          "data": {
            "text/plain": [
              "     Month  Thousands of Passengers\n",
              "0  1949-01                    112.0\n",
              "1  1949-02                    118.0\n",
              "2  1949-03                    132.0\n",
              "3  1949-04                    129.0\n",
              "4  1949-05                    121.0"
            ],
            "text/html": [
              "\n",
              "  <div id=\"df-a23fdc5d-0344-462d-9a18-1cc22545944a\" class=\"colab-df-container\">\n",
              "    <div>\n",
              "<style scoped>\n",
              "    .dataframe tbody tr th:only-of-type {\n",
              "        vertical-align: middle;\n",
              "    }\n",
              "\n",
              "    .dataframe tbody tr th {\n",
              "        vertical-align: top;\n",
              "    }\n",
              "\n",
              "    .dataframe thead th {\n",
              "        text-align: right;\n",
              "    }\n",
              "</style>\n",
              "<table border=\"1\" class=\"dataframe\">\n",
              "  <thead>\n",
              "    <tr style=\"text-align: right;\">\n",
              "      <th></th>\n",
              "      <th>Month</th>\n",
              "      <th>Thousands of Passengers</th>\n",
              "    </tr>\n",
              "  </thead>\n",
              "  <tbody>\n",
              "    <tr>\n",
              "      <th>0</th>\n",
              "      <td>1949-01</td>\n",
              "      <td>112.0</td>\n",
              "    </tr>\n",
              "    <tr>\n",
              "      <th>1</th>\n",
              "      <td>1949-02</td>\n",
              "      <td>118.0</td>\n",
              "    </tr>\n",
              "    <tr>\n",
              "      <th>2</th>\n",
              "      <td>1949-03</td>\n",
              "      <td>132.0</td>\n",
              "    </tr>\n",
              "    <tr>\n",
              "      <th>3</th>\n",
              "      <td>1949-04</td>\n",
              "      <td>129.0</td>\n",
              "    </tr>\n",
              "    <tr>\n",
              "      <th>4</th>\n",
              "      <td>1949-05</td>\n",
              "      <td>121.0</td>\n",
              "    </tr>\n",
              "  </tbody>\n",
              "</table>\n",
              "</div>\n",
              "    <div class=\"colab-df-buttons\">\n",
              "\n",
              "  <div class=\"colab-df-container\">\n",
              "    <button class=\"colab-df-convert\" onclick=\"convertToInteractive('df-a23fdc5d-0344-462d-9a18-1cc22545944a')\"\n",
              "            title=\"Convert this dataframe to an interactive table.\"\n",
              "            style=\"display:none;\">\n",
              "\n",
              "  <svg xmlns=\"http://www.w3.org/2000/svg\" height=\"24px\" viewBox=\"0 -960 960 960\">\n",
              "    <path d=\"M120-120v-720h720v720H120Zm60-500h600v-160H180v160Zm220 220h160v-160H400v160Zm0 220h160v-160H400v160ZM180-400h160v-160H180v160Zm440 0h160v-160H620v160ZM180-180h160v-160H180v160Zm440 0h160v-160H620v160Z\"/>\n",
              "  </svg>\n",
              "    </button>\n",
              "\n",
              "  <style>\n",
              "    .colab-df-container {\n",
              "      display:flex;\n",
              "      gap: 12px;\n",
              "    }\n",
              "\n",
              "    .colab-df-convert {\n",
              "      background-color: #E8F0FE;\n",
              "      border: none;\n",
              "      border-radius: 50%;\n",
              "      cursor: pointer;\n",
              "      display: none;\n",
              "      fill: #1967D2;\n",
              "      height: 32px;\n",
              "      padding: 0 0 0 0;\n",
              "      width: 32px;\n",
              "    }\n",
              "\n",
              "    .colab-df-convert:hover {\n",
              "      background-color: #E2EBFA;\n",
              "      box-shadow: 0px 1px 2px rgba(60, 64, 67, 0.3), 0px 1px 3px 1px rgba(60, 64, 67, 0.15);\n",
              "      fill: #174EA6;\n",
              "    }\n",
              "\n",
              "    .colab-df-buttons div {\n",
              "      margin-bottom: 4px;\n",
              "    }\n",
              "\n",
              "    [theme=dark] .colab-df-convert {\n",
              "      background-color: #3B4455;\n",
              "      fill: #D2E3FC;\n",
              "    }\n",
              "\n",
              "    [theme=dark] .colab-df-convert:hover {\n",
              "      background-color: #434B5C;\n",
              "      box-shadow: 0px 1px 3px 1px rgba(0, 0, 0, 0.15);\n",
              "      filter: drop-shadow(0px 1px 2px rgba(0, 0, 0, 0.3));\n",
              "      fill: #FFFFFF;\n",
              "    }\n",
              "  </style>\n",
              "\n",
              "    <script>\n",
              "      const buttonEl =\n",
              "        document.querySelector('#df-a23fdc5d-0344-462d-9a18-1cc22545944a button.colab-df-convert');\n",
              "      buttonEl.style.display =\n",
              "        google.colab.kernel.accessAllowed ? 'block' : 'none';\n",
              "\n",
              "      async function convertToInteractive(key) {\n",
              "        const element = document.querySelector('#df-a23fdc5d-0344-462d-9a18-1cc22545944a');\n",
              "        const dataTable =\n",
              "          await google.colab.kernel.invokeFunction('convertToInteractive',\n",
              "                                                    [key], {});\n",
              "        if (!dataTable) return;\n",
              "\n",
              "        const docLinkHtml = 'Like what you see? Visit the ' +\n",
              "          '<a target=\"_blank\" href=https://colab.research.google.com/notebooks/data_table.ipynb>data table notebook</a>'\n",
              "          + ' to learn more about interactive tables.';\n",
              "        element.innerHTML = '';\n",
              "        dataTable['output_type'] = 'display_data';\n",
              "        await google.colab.output.renderOutput(dataTable, element);\n",
              "        const docLink = document.createElement('div');\n",
              "        docLink.innerHTML = docLinkHtml;\n",
              "        element.appendChild(docLink);\n",
              "      }\n",
              "    </script>\n",
              "  </div>\n",
              "\n",
              "\n",
              "<div id=\"df-7827779e-ad88-4494-86a6-7c47a355c613\">\n",
              "  <button class=\"colab-df-quickchart\" onclick=\"quickchart('df-7827779e-ad88-4494-86a6-7c47a355c613')\"\n",
              "            title=\"Suggest charts\"\n",
              "            style=\"display:none;\">\n",
              "\n",
              "<svg xmlns=\"http://www.w3.org/2000/svg\" height=\"24px\"viewBox=\"0 0 24 24\"\n",
              "     width=\"24px\">\n",
              "    <g>\n",
              "        <path d=\"M19 3H5c-1.1 0-2 .9-2 2v14c0 1.1.9 2 2 2h14c1.1 0 2-.9 2-2V5c0-1.1-.9-2-2-2zM9 17H7v-7h2v7zm4 0h-2V7h2v10zm4 0h-2v-4h2v4z\"/>\n",
              "    </g>\n",
              "</svg>\n",
              "  </button>\n",
              "\n",
              "<style>\n",
              "  .colab-df-quickchart {\n",
              "      --bg-color: #E8F0FE;\n",
              "      --fill-color: #1967D2;\n",
              "      --hover-bg-color: #E2EBFA;\n",
              "      --hover-fill-color: #174EA6;\n",
              "      --disabled-fill-color: #AAA;\n",
              "      --disabled-bg-color: #DDD;\n",
              "  }\n",
              "\n",
              "  [theme=dark] .colab-df-quickchart {\n",
              "      --bg-color: #3B4455;\n",
              "      --fill-color: #D2E3FC;\n",
              "      --hover-bg-color: #434B5C;\n",
              "      --hover-fill-color: #FFFFFF;\n",
              "      --disabled-bg-color: #3B4455;\n",
              "      --disabled-fill-color: #666;\n",
              "  }\n",
              "\n",
              "  .colab-df-quickchart {\n",
              "    background-color: var(--bg-color);\n",
              "    border: none;\n",
              "    border-radius: 50%;\n",
              "    cursor: pointer;\n",
              "    display: none;\n",
              "    fill: var(--fill-color);\n",
              "    height: 32px;\n",
              "    padding: 0;\n",
              "    width: 32px;\n",
              "  }\n",
              "\n",
              "  .colab-df-quickchart:hover {\n",
              "    background-color: var(--hover-bg-color);\n",
              "    box-shadow: 0 1px 2px rgba(60, 64, 67, 0.3), 0 1px 3px 1px rgba(60, 64, 67, 0.15);\n",
              "    fill: var(--button-hover-fill-color);\n",
              "  }\n",
              "\n",
              "  .colab-df-quickchart-complete:disabled,\n",
              "  .colab-df-quickchart-complete:disabled:hover {\n",
              "    background-color: var(--disabled-bg-color);\n",
              "    fill: var(--disabled-fill-color);\n",
              "    box-shadow: none;\n",
              "  }\n",
              "\n",
              "  .colab-df-spinner {\n",
              "    border: 2px solid var(--fill-color);\n",
              "    border-color: transparent;\n",
              "    border-bottom-color: var(--fill-color);\n",
              "    animation:\n",
              "      spin 1s steps(1) infinite;\n",
              "  }\n",
              "\n",
              "  @keyframes spin {\n",
              "    0% {\n",
              "      border-color: transparent;\n",
              "      border-bottom-color: var(--fill-color);\n",
              "      border-left-color: var(--fill-color);\n",
              "    }\n",
              "    20% {\n",
              "      border-color: transparent;\n",
              "      border-left-color: var(--fill-color);\n",
              "      border-top-color: var(--fill-color);\n",
              "    }\n",
              "    30% {\n",
              "      border-color: transparent;\n",
              "      border-left-color: var(--fill-color);\n",
              "      border-top-color: var(--fill-color);\n",
              "      border-right-color: var(--fill-color);\n",
              "    }\n",
              "    40% {\n",
              "      border-color: transparent;\n",
              "      border-right-color: var(--fill-color);\n",
              "      border-top-color: var(--fill-color);\n",
              "    }\n",
              "    60% {\n",
              "      border-color: transparent;\n",
              "      border-right-color: var(--fill-color);\n",
              "    }\n",
              "    80% {\n",
              "      border-color: transparent;\n",
              "      border-right-color: var(--fill-color);\n",
              "      border-bottom-color: var(--fill-color);\n",
              "    }\n",
              "    90% {\n",
              "      border-color: transparent;\n",
              "      border-bottom-color: var(--fill-color);\n",
              "    }\n",
              "  }\n",
              "</style>\n",
              "\n",
              "  <script>\n",
              "    async function quickchart(key) {\n",
              "      const quickchartButtonEl =\n",
              "        document.querySelector('#' + key + ' button');\n",
              "      quickchartButtonEl.disabled = true;  // To prevent multiple clicks.\n",
              "      quickchartButtonEl.classList.add('colab-df-spinner');\n",
              "      try {\n",
              "        const charts = await google.colab.kernel.invokeFunction(\n",
              "            'suggestCharts', [key], {});\n",
              "      } catch (error) {\n",
              "        console.error('Error during call to suggestCharts:', error);\n",
              "      }\n",
              "      quickchartButtonEl.classList.remove('colab-df-spinner');\n",
              "      quickchartButtonEl.classList.add('colab-df-quickchart-complete');\n",
              "    }\n",
              "    (() => {\n",
              "      let quickchartButtonEl =\n",
              "        document.querySelector('#df-7827779e-ad88-4494-86a6-7c47a355c613 button');\n",
              "      quickchartButtonEl.style.display =\n",
              "        google.colab.kernel.accessAllowed ? 'block' : 'none';\n",
              "    })();\n",
              "  </script>\n",
              "</div>\n",
              "\n",
              "    </div>\n",
              "  </div>\n"
            ]
          },
          "metadata": {},
          "execution_count": 239
        }
      ],
      "source": [
        "df_airline=pd.read_csv('airline_passengers.csv')\n",
        "df_airline.head()"
      ]
    },
    {
      "cell_type": "code",
      "execution_count": 240,
      "id": "9298f379",
      "metadata": {
        "colab": {
          "base_uri": "https://localhost:8080/"
        },
        "id": "9298f379",
        "outputId": "4e83dd61-b162-417e-8d28-4c5da520ee47"
      },
      "outputs": [
        {
          "output_type": "execute_result",
          "data": {
            "text/plain": [
              "Month                      0\n",
              "Thousands of Passengers    1\n",
              "dtype: int64"
            ]
          },
          "metadata": {},
          "execution_count": 240
        }
      ],
      "source": [
        "df_airline.isnull().sum()"
      ]
    },
    {
      "cell_type": "code",
      "execution_count": 241,
      "id": "8c0046d6",
      "metadata": {
        "colab": {
          "base_uri": "https://localhost:8080/",
          "height": 206
        },
        "id": "8c0046d6",
        "outputId": "46023979-2b80-4fdd-c9d1-290c3b0d12cc"
      },
      "outputs": [
        {
          "output_type": "execute_result",
          "data": {
            "text/plain": [
              "                                                 Month  \\\n",
              "140                                            1960-09   \n",
              "141                                            1960-10   \n",
              "142                                            1960-11   \n",
              "143                                            1960-12   \n",
              "144  International airline passengers: monthly tota...   \n",
              "\n",
              "     Thousands of Passengers  \n",
              "140                    508.0  \n",
              "141                    461.0  \n",
              "142                    390.0  \n",
              "143                    432.0  \n",
              "144                      NaN  "
            ],
            "text/html": [
              "\n",
              "  <div id=\"df-d81b8827-b483-4a1c-8d03-70f2c6b60b6b\" class=\"colab-df-container\">\n",
              "    <div>\n",
              "<style scoped>\n",
              "    .dataframe tbody tr th:only-of-type {\n",
              "        vertical-align: middle;\n",
              "    }\n",
              "\n",
              "    .dataframe tbody tr th {\n",
              "        vertical-align: top;\n",
              "    }\n",
              "\n",
              "    .dataframe thead th {\n",
              "        text-align: right;\n",
              "    }\n",
              "</style>\n",
              "<table border=\"1\" class=\"dataframe\">\n",
              "  <thead>\n",
              "    <tr style=\"text-align: right;\">\n",
              "      <th></th>\n",
              "      <th>Month</th>\n",
              "      <th>Thousands of Passengers</th>\n",
              "    </tr>\n",
              "  </thead>\n",
              "  <tbody>\n",
              "    <tr>\n",
              "      <th>140</th>\n",
              "      <td>1960-09</td>\n",
              "      <td>508.0</td>\n",
              "    </tr>\n",
              "    <tr>\n",
              "      <th>141</th>\n",
              "      <td>1960-10</td>\n",
              "      <td>461.0</td>\n",
              "    </tr>\n",
              "    <tr>\n",
              "      <th>142</th>\n",
              "      <td>1960-11</td>\n",
              "      <td>390.0</td>\n",
              "    </tr>\n",
              "    <tr>\n",
              "      <th>143</th>\n",
              "      <td>1960-12</td>\n",
              "      <td>432.0</td>\n",
              "    </tr>\n",
              "    <tr>\n",
              "      <th>144</th>\n",
              "      <td>International airline passengers: monthly tota...</td>\n",
              "      <td>NaN</td>\n",
              "    </tr>\n",
              "  </tbody>\n",
              "</table>\n",
              "</div>\n",
              "    <div class=\"colab-df-buttons\">\n",
              "\n",
              "  <div class=\"colab-df-container\">\n",
              "    <button class=\"colab-df-convert\" onclick=\"convertToInteractive('df-d81b8827-b483-4a1c-8d03-70f2c6b60b6b')\"\n",
              "            title=\"Convert this dataframe to an interactive table.\"\n",
              "            style=\"display:none;\">\n",
              "\n",
              "  <svg xmlns=\"http://www.w3.org/2000/svg\" height=\"24px\" viewBox=\"0 -960 960 960\">\n",
              "    <path d=\"M120-120v-720h720v720H120Zm60-500h600v-160H180v160Zm220 220h160v-160H400v160Zm0 220h160v-160H400v160ZM180-400h160v-160H180v160Zm440 0h160v-160H620v160ZM180-180h160v-160H180v160Zm440 0h160v-160H620v160Z\"/>\n",
              "  </svg>\n",
              "    </button>\n",
              "\n",
              "  <style>\n",
              "    .colab-df-container {\n",
              "      display:flex;\n",
              "      gap: 12px;\n",
              "    }\n",
              "\n",
              "    .colab-df-convert {\n",
              "      background-color: #E8F0FE;\n",
              "      border: none;\n",
              "      border-radius: 50%;\n",
              "      cursor: pointer;\n",
              "      display: none;\n",
              "      fill: #1967D2;\n",
              "      height: 32px;\n",
              "      padding: 0 0 0 0;\n",
              "      width: 32px;\n",
              "    }\n",
              "\n",
              "    .colab-df-convert:hover {\n",
              "      background-color: #E2EBFA;\n",
              "      box-shadow: 0px 1px 2px rgba(60, 64, 67, 0.3), 0px 1px 3px 1px rgba(60, 64, 67, 0.15);\n",
              "      fill: #174EA6;\n",
              "    }\n",
              "\n",
              "    .colab-df-buttons div {\n",
              "      margin-bottom: 4px;\n",
              "    }\n",
              "\n",
              "    [theme=dark] .colab-df-convert {\n",
              "      background-color: #3B4455;\n",
              "      fill: #D2E3FC;\n",
              "    }\n",
              "\n",
              "    [theme=dark] .colab-df-convert:hover {\n",
              "      background-color: #434B5C;\n",
              "      box-shadow: 0px 1px 3px 1px rgba(0, 0, 0, 0.15);\n",
              "      filter: drop-shadow(0px 1px 2px rgba(0, 0, 0, 0.3));\n",
              "      fill: #FFFFFF;\n",
              "    }\n",
              "  </style>\n",
              "\n",
              "    <script>\n",
              "      const buttonEl =\n",
              "        document.querySelector('#df-d81b8827-b483-4a1c-8d03-70f2c6b60b6b button.colab-df-convert');\n",
              "      buttonEl.style.display =\n",
              "        google.colab.kernel.accessAllowed ? 'block' : 'none';\n",
              "\n",
              "      async function convertToInteractive(key) {\n",
              "        const element = document.querySelector('#df-d81b8827-b483-4a1c-8d03-70f2c6b60b6b');\n",
              "        const dataTable =\n",
              "          await google.colab.kernel.invokeFunction('convertToInteractive',\n",
              "                                                    [key], {});\n",
              "        if (!dataTable) return;\n",
              "\n",
              "        const docLinkHtml = 'Like what you see? Visit the ' +\n",
              "          '<a target=\"_blank\" href=https://colab.research.google.com/notebooks/data_table.ipynb>data table notebook</a>'\n",
              "          + ' to learn more about interactive tables.';\n",
              "        element.innerHTML = '';\n",
              "        dataTable['output_type'] = 'display_data';\n",
              "        await google.colab.output.renderOutput(dataTable, element);\n",
              "        const docLink = document.createElement('div');\n",
              "        docLink.innerHTML = docLinkHtml;\n",
              "        element.appendChild(docLink);\n",
              "      }\n",
              "    </script>\n",
              "  </div>\n",
              "\n",
              "\n",
              "<div id=\"df-76e340d7-fdce-4827-b86b-a15f150ace3d\">\n",
              "  <button class=\"colab-df-quickchart\" onclick=\"quickchart('df-76e340d7-fdce-4827-b86b-a15f150ace3d')\"\n",
              "            title=\"Suggest charts\"\n",
              "            style=\"display:none;\">\n",
              "\n",
              "<svg xmlns=\"http://www.w3.org/2000/svg\" height=\"24px\"viewBox=\"0 0 24 24\"\n",
              "     width=\"24px\">\n",
              "    <g>\n",
              "        <path d=\"M19 3H5c-1.1 0-2 .9-2 2v14c0 1.1.9 2 2 2h14c1.1 0 2-.9 2-2V5c0-1.1-.9-2-2-2zM9 17H7v-7h2v7zm4 0h-2V7h2v10zm4 0h-2v-4h2v4z\"/>\n",
              "    </g>\n",
              "</svg>\n",
              "  </button>\n",
              "\n",
              "<style>\n",
              "  .colab-df-quickchart {\n",
              "      --bg-color: #E8F0FE;\n",
              "      --fill-color: #1967D2;\n",
              "      --hover-bg-color: #E2EBFA;\n",
              "      --hover-fill-color: #174EA6;\n",
              "      --disabled-fill-color: #AAA;\n",
              "      --disabled-bg-color: #DDD;\n",
              "  }\n",
              "\n",
              "  [theme=dark] .colab-df-quickchart {\n",
              "      --bg-color: #3B4455;\n",
              "      --fill-color: #D2E3FC;\n",
              "      --hover-bg-color: #434B5C;\n",
              "      --hover-fill-color: #FFFFFF;\n",
              "      --disabled-bg-color: #3B4455;\n",
              "      --disabled-fill-color: #666;\n",
              "  }\n",
              "\n",
              "  .colab-df-quickchart {\n",
              "    background-color: var(--bg-color);\n",
              "    border: none;\n",
              "    border-radius: 50%;\n",
              "    cursor: pointer;\n",
              "    display: none;\n",
              "    fill: var(--fill-color);\n",
              "    height: 32px;\n",
              "    padding: 0;\n",
              "    width: 32px;\n",
              "  }\n",
              "\n",
              "  .colab-df-quickchart:hover {\n",
              "    background-color: var(--hover-bg-color);\n",
              "    box-shadow: 0 1px 2px rgba(60, 64, 67, 0.3), 0 1px 3px 1px rgba(60, 64, 67, 0.15);\n",
              "    fill: var(--button-hover-fill-color);\n",
              "  }\n",
              "\n",
              "  .colab-df-quickchart-complete:disabled,\n",
              "  .colab-df-quickchart-complete:disabled:hover {\n",
              "    background-color: var(--disabled-bg-color);\n",
              "    fill: var(--disabled-fill-color);\n",
              "    box-shadow: none;\n",
              "  }\n",
              "\n",
              "  .colab-df-spinner {\n",
              "    border: 2px solid var(--fill-color);\n",
              "    border-color: transparent;\n",
              "    border-bottom-color: var(--fill-color);\n",
              "    animation:\n",
              "      spin 1s steps(1) infinite;\n",
              "  }\n",
              "\n",
              "  @keyframes spin {\n",
              "    0% {\n",
              "      border-color: transparent;\n",
              "      border-bottom-color: var(--fill-color);\n",
              "      border-left-color: var(--fill-color);\n",
              "    }\n",
              "    20% {\n",
              "      border-color: transparent;\n",
              "      border-left-color: var(--fill-color);\n",
              "      border-top-color: var(--fill-color);\n",
              "    }\n",
              "    30% {\n",
              "      border-color: transparent;\n",
              "      border-left-color: var(--fill-color);\n",
              "      border-top-color: var(--fill-color);\n",
              "      border-right-color: var(--fill-color);\n",
              "    }\n",
              "    40% {\n",
              "      border-color: transparent;\n",
              "      border-right-color: var(--fill-color);\n",
              "      border-top-color: var(--fill-color);\n",
              "    }\n",
              "    60% {\n",
              "      border-color: transparent;\n",
              "      border-right-color: var(--fill-color);\n",
              "    }\n",
              "    80% {\n",
              "      border-color: transparent;\n",
              "      border-right-color: var(--fill-color);\n",
              "      border-bottom-color: var(--fill-color);\n",
              "    }\n",
              "    90% {\n",
              "      border-color: transparent;\n",
              "      border-bottom-color: var(--fill-color);\n",
              "    }\n",
              "  }\n",
              "</style>\n",
              "\n",
              "  <script>\n",
              "    async function quickchart(key) {\n",
              "      const quickchartButtonEl =\n",
              "        document.querySelector('#' + key + ' button');\n",
              "      quickchartButtonEl.disabled = true;  // To prevent multiple clicks.\n",
              "      quickchartButtonEl.classList.add('colab-df-spinner');\n",
              "      try {\n",
              "        const charts = await google.colab.kernel.invokeFunction(\n",
              "            'suggestCharts', [key], {});\n",
              "      } catch (error) {\n",
              "        console.error('Error during call to suggestCharts:', error);\n",
              "      }\n",
              "      quickchartButtonEl.classList.remove('colab-df-spinner');\n",
              "      quickchartButtonEl.classList.add('colab-df-quickchart-complete');\n",
              "    }\n",
              "    (() => {\n",
              "      let quickchartButtonEl =\n",
              "        document.querySelector('#df-76e340d7-fdce-4827-b86b-a15f150ace3d button');\n",
              "      quickchartButtonEl.style.display =\n",
              "        google.colab.kernel.accessAllowed ? 'block' : 'none';\n",
              "    })();\n",
              "  </script>\n",
              "</div>\n",
              "\n",
              "    </div>\n",
              "  </div>\n"
            ]
          },
          "metadata": {},
          "execution_count": 241
        }
      ],
      "source": [
        "df_airline.tail()"
      ]
    },
    {
      "cell_type": "code",
      "execution_count": 242,
      "id": "9b647cd9",
      "metadata": {
        "id": "9b647cd9"
      },
      "outputs": [],
      "source": [
        "df_airline.dropna(axis=0,inplace=True)"
      ]
    },
    {
      "cell_type": "code",
      "execution_count": 243,
      "id": "a07efb56",
      "metadata": {
        "colab": {
          "base_uri": "https://localhost:8080/"
        },
        "id": "a07efb56",
        "outputId": "9a5b4aa2-00ea-473e-a101-d69866b52385"
      },
      "outputs": [
        {
          "output_type": "execute_result",
          "data": {
            "text/plain": [
              "Month                      0\n",
              "Thousands of Passengers    0\n",
              "dtype: int64"
            ]
          },
          "metadata": {},
          "execution_count": 243
        }
      ],
      "source": [
        "df_airline.isnull().sum()"
      ]
    },
    {
      "cell_type": "code",
      "execution_count": 244,
      "id": "45edd7ba",
      "metadata": {
        "colab": {
          "base_uri": "https://localhost:8080/"
        },
        "id": "45edd7ba",
        "outputId": "3275925e-836f-48f5-80c7-40748302cda7"
      },
      "outputs": [
        {
          "output_type": "stream",
          "name": "stdout",
          "text": [
            "<class 'pandas.core.frame.DataFrame'>\n",
            "Int64Index: 144 entries, 0 to 143\n",
            "Data columns (total 2 columns):\n",
            " #   Column                   Non-Null Count  Dtype  \n",
            "---  ------                   --------------  -----  \n",
            " 0   Month                    144 non-null    object \n",
            " 1   Thousands of Passengers  144 non-null    float64\n",
            "dtypes: float64(1), object(1)\n",
            "memory usage: 3.4+ KB\n"
          ]
        }
      ],
      "source": [
        "df_airline.info()"
      ]
    },
    {
      "cell_type": "code",
      "execution_count": 245,
      "id": "150dfa4c",
      "metadata": {
        "id": "150dfa4c"
      },
      "outputs": [],
      "source": [
        "df_airline['Month']=pd.to_datetime(df_airline['Month'])"
      ]
    },
    {
      "cell_type": "code",
      "execution_count": 246,
      "id": "9f031ae8",
      "metadata": {
        "colab": {
          "base_uri": "https://localhost:8080/"
        },
        "id": "9f031ae8",
        "outputId": "f99743b1-bad5-4811-87ae-0580dab55fb1"
      },
      "outputs": [
        {
          "output_type": "stream",
          "name": "stdout",
          "text": [
            "<class 'pandas.core.frame.DataFrame'>\n",
            "Int64Index: 144 entries, 0 to 143\n",
            "Data columns (total 2 columns):\n",
            " #   Column                   Non-Null Count  Dtype         \n",
            "---  ------                   --------------  -----         \n",
            " 0   Month                    144 non-null    datetime64[ns]\n",
            " 1   Thousands of Passengers  144 non-null    float64       \n",
            "dtypes: datetime64[ns](1), float64(1)\n",
            "memory usage: 3.4 KB\n"
          ]
        }
      ],
      "source": [
        "df_airline.info()"
      ]
    },
    {
      "cell_type": "code",
      "execution_count": 247,
      "id": "ad74c0e1",
      "metadata": {
        "colab": {
          "base_uri": "https://localhost:8080/",
          "height": 206
        },
        "id": "ad74c0e1",
        "outputId": "f64019f9-7ad2-4967-fc9f-d409672d3610"
      },
      "outputs": [
        {
          "output_type": "execute_result",
          "data": {
            "text/plain": [
              "       Month  Thousands of Passengers\n",
              "0 1949-01-01                    112.0\n",
              "1 1949-02-01                    118.0\n",
              "2 1949-03-01                    132.0\n",
              "3 1949-04-01                    129.0\n",
              "4 1949-05-01                    121.0"
            ],
            "text/html": [
              "\n",
              "  <div id=\"df-db13ed86-3c6e-4005-84df-5544ba589828\" class=\"colab-df-container\">\n",
              "    <div>\n",
              "<style scoped>\n",
              "    .dataframe tbody tr th:only-of-type {\n",
              "        vertical-align: middle;\n",
              "    }\n",
              "\n",
              "    .dataframe tbody tr th {\n",
              "        vertical-align: top;\n",
              "    }\n",
              "\n",
              "    .dataframe thead th {\n",
              "        text-align: right;\n",
              "    }\n",
              "</style>\n",
              "<table border=\"1\" class=\"dataframe\">\n",
              "  <thead>\n",
              "    <tr style=\"text-align: right;\">\n",
              "      <th></th>\n",
              "      <th>Month</th>\n",
              "      <th>Thousands of Passengers</th>\n",
              "    </tr>\n",
              "  </thead>\n",
              "  <tbody>\n",
              "    <tr>\n",
              "      <th>0</th>\n",
              "      <td>1949-01-01</td>\n",
              "      <td>112.0</td>\n",
              "    </tr>\n",
              "    <tr>\n",
              "      <th>1</th>\n",
              "      <td>1949-02-01</td>\n",
              "      <td>118.0</td>\n",
              "    </tr>\n",
              "    <tr>\n",
              "      <th>2</th>\n",
              "      <td>1949-03-01</td>\n",
              "      <td>132.0</td>\n",
              "    </tr>\n",
              "    <tr>\n",
              "      <th>3</th>\n",
              "      <td>1949-04-01</td>\n",
              "      <td>129.0</td>\n",
              "    </tr>\n",
              "    <tr>\n",
              "      <th>4</th>\n",
              "      <td>1949-05-01</td>\n",
              "      <td>121.0</td>\n",
              "    </tr>\n",
              "  </tbody>\n",
              "</table>\n",
              "</div>\n",
              "    <div class=\"colab-df-buttons\">\n",
              "\n",
              "  <div class=\"colab-df-container\">\n",
              "    <button class=\"colab-df-convert\" onclick=\"convertToInteractive('df-db13ed86-3c6e-4005-84df-5544ba589828')\"\n",
              "            title=\"Convert this dataframe to an interactive table.\"\n",
              "            style=\"display:none;\">\n",
              "\n",
              "  <svg xmlns=\"http://www.w3.org/2000/svg\" height=\"24px\" viewBox=\"0 -960 960 960\">\n",
              "    <path d=\"M120-120v-720h720v720H120Zm60-500h600v-160H180v160Zm220 220h160v-160H400v160Zm0 220h160v-160H400v160ZM180-400h160v-160H180v160Zm440 0h160v-160H620v160ZM180-180h160v-160H180v160Zm440 0h160v-160H620v160Z\"/>\n",
              "  </svg>\n",
              "    </button>\n",
              "\n",
              "  <style>\n",
              "    .colab-df-container {\n",
              "      display:flex;\n",
              "      gap: 12px;\n",
              "    }\n",
              "\n",
              "    .colab-df-convert {\n",
              "      background-color: #E8F0FE;\n",
              "      border: none;\n",
              "      border-radius: 50%;\n",
              "      cursor: pointer;\n",
              "      display: none;\n",
              "      fill: #1967D2;\n",
              "      height: 32px;\n",
              "      padding: 0 0 0 0;\n",
              "      width: 32px;\n",
              "    }\n",
              "\n",
              "    .colab-df-convert:hover {\n",
              "      background-color: #E2EBFA;\n",
              "      box-shadow: 0px 1px 2px rgba(60, 64, 67, 0.3), 0px 1px 3px 1px rgba(60, 64, 67, 0.15);\n",
              "      fill: #174EA6;\n",
              "    }\n",
              "\n",
              "    .colab-df-buttons div {\n",
              "      margin-bottom: 4px;\n",
              "    }\n",
              "\n",
              "    [theme=dark] .colab-df-convert {\n",
              "      background-color: #3B4455;\n",
              "      fill: #D2E3FC;\n",
              "    }\n",
              "\n",
              "    [theme=dark] .colab-df-convert:hover {\n",
              "      background-color: #434B5C;\n",
              "      box-shadow: 0px 1px 3px 1px rgba(0, 0, 0, 0.15);\n",
              "      filter: drop-shadow(0px 1px 2px rgba(0, 0, 0, 0.3));\n",
              "      fill: #FFFFFF;\n",
              "    }\n",
              "  </style>\n",
              "\n",
              "    <script>\n",
              "      const buttonEl =\n",
              "        document.querySelector('#df-db13ed86-3c6e-4005-84df-5544ba589828 button.colab-df-convert');\n",
              "      buttonEl.style.display =\n",
              "        google.colab.kernel.accessAllowed ? 'block' : 'none';\n",
              "\n",
              "      async function convertToInteractive(key) {\n",
              "        const element = document.querySelector('#df-db13ed86-3c6e-4005-84df-5544ba589828');\n",
              "        const dataTable =\n",
              "          await google.colab.kernel.invokeFunction('convertToInteractive',\n",
              "                                                    [key], {});\n",
              "        if (!dataTable) return;\n",
              "\n",
              "        const docLinkHtml = 'Like what you see? Visit the ' +\n",
              "          '<a target=\"_blank\" href=https://colab.research.google.com/notebooks/data_table.ipynb>data table notebook</a>'\n",
              "          + ' to learn more about interactive tables.';\n",
              "        element.innerHTML = '';\n",
              "        dataTable['output_type'] = 'display_data';\n",
              "        await google.colab.output.renderOutput(dataTable, element);\n",
              "        const docLink = document.createElement('div');\n",
              "        docLink.innerHTML = docLinkHtml;\n",
              "        element.appendChild(docLink);\n",
              "      }\n",
              "    </script>\n",
              "  </div>\n",
              "\n",
              "\n",
              "<div id=\"df-8cb38be3-dc5a-4a91-8d02-1950d57f1ed5\">\n",
              "  <button class=\"colab-df-quickchart\" onclick=\"quickchart('df-8cb38be3-dc5a-4a91-8d02-1950d57f1ed5')\"\n",
              "            title=\"Suggest charts\"\n",
              "            style=\"display:none;\">\n",
              "\n",
              "<svg xmlns=\"http://www.w3.org/2000/svg\" height=\"24px\"viewBox=\"0 0 24 24\"\n",
              "     width=\"24px\">\n",
              "    <g>\n",
              "        <path d=\"M19 3H5c-1.1 0-2 .9-2 2v14c0 1.1.9 2 2 2h14c1.1 0 2-.9 2-2V5c0-1.1-.9-2-2-2zM9 17H7v-7h2v7zm4 0h-2V7h2v10zm4 0h-2v-4h2v4z\"/>\n",
              "    </g>\n",
              "</svg>\n",
              "  </button>\n",
              "\n",
              "<style>\n",
              "  .colab-df-quickchart {\n",
              "      --bg-color: #E8F0FE;\n",
              "      --fill-color: #1967D2;\n",
              "      --hover-bg-color: #E2EBFA;\n",
              "      --hover-fill-color: #174EA6;\n",
              "      --disabled-fill-color: #AAA;\n",
              "      --disabled-bg-color: #DDD;\n",
              "  }\n",
              "\n",
              "  [theme=dark] .colab-df-quickchart {\n",
              "      --bg-color: #3B4455;\n",
              "      --fill-color: #D2E3FC;\n",
              "      --hover-bg-color: #434B5C;\n",
              "      --hover-fill-color: #FFFFFF;\n",
              "      --disabled-bg-color: #3B4455;\n",
              "      --disabled-fill-color: #666;\n",
              "  }\n",
              "\n",
              "  .colab-df-quickchart {\n",
              "    background-color: var(--bg-color);\n",
              "    border: none;\n",
              "    border-radius: 50%;\n",
              "    cursor: pointer;\n",
              "    display: none;\n",
              "    fill: var(--fill-color);\n",
              "    height: 32px;\n",
              "    padding: 0;\n",
              "    width: 32px;\n",
              "  }\n",
              "\n",
              "  .colab-df-quickchart:hover {\n",
              "    background-color: var(--hover-bg-color);\n",
              "    box-shadow: 0 1px 2px rgba(60, 64, 67, 0.3), 0 1px 3px 1px rgba(60, 64, 67, 0.15);\n",
              "    fill: var(--button-hover-fill-color);\n",
              "  }\n",
              "\n",
              "  .colab-df-quickchart-complete:disabled,\n",
              "  .colab-df-quickchart-complete:disabled:hover {\n",
              "    background-color: var(--disabled-bg-color);\n",
              "    fill: var(--disabled-fill-color);\n",
              "    box-shadow: none;\n",
              "  }\n",
              "\n",
              "  .colab-df-spinner {\n",
              "    border: 2px solid var(--fill-color);\n",
              "    border-color: transparent;\n",
              "    border-bottom-color: var(--fill-color);\n",
              "    animation:\n",
              "      spin 1s steps(1) infinite;\n",
              "  }\n",
              "\n",
              "  @keyframes spin {\n",
              "    0% {\n",
              "      border-color: transparent;\n",
              "      border-bottom-color: var(--fill-color);\n",
              "      border-left-color: var(--fill-color);\n",
              "    }\n",
              "    20% {\n",
              "      border-color: transparent;\n",
              "      border-left-color: var(--fill-color);\n",
              "      border-top-color: var(--fill-color);\n",
              "    }\n",
              "    30% {\n",
              "      border-color: transparent;\n",
              "      border-left-color: var(--fill-color);\n",
              "      border-top-color: var(--fill-color);\n",
              "      border-right-color: var(--fill-color);\n",
              "    }\n",
              "    40% {\n",
              "      border-color: transparent;\n",
              "      border-right-color: var(--fill-color);\n",
              "      border-top-color: var(--fill-color);\n",
              "    }\n",
              "    60% {\n",
              "      border-color: transparent;\n",
              "      border-right-color: var(--fill-color);\n",
              "    }\n",
              "    80% {\n",
              "      border-color: transparent;\n",
              "      border-right-color: var(--fill-color);\n",
              "      border-bottom-color: var(--fill-color);\n",
              "    }\n",
              "    90% {\n",
              "      border-color: transparent;\n",
              "      border-bottom-color: var(--fill-color);\n",
              "    }\n",
              "  }\n",
              "</style>\n",
              "\n",
              "  <script>\n",
              "    async function quickchart(key) {\n",
              "      const quickchartButtonEl =\n",
              "        document.querySelector('#' + key + ' button');\n",
              "      quickchartButtonEl.disabled = true;  // To prevent multiple clicks.\n",
              "      quickchartButtonEl.classList.add('colab-df-spinner');\n",
              "      try {\n",
              "        const charts = await google.colab.kernel.invokeFunction(\n",
              "            'suggestCharts', [key], {});\n",
              "      } catch (error) {\n",
              "        console.error('Error during call to suggestCharts:', error);\n",
              "      }\n",
              "      quickchartButtonEl.classList.remove('colab-df-spinner');\n",
              "      quickchartButtonEl.classList.add('colab-df-quickchart-complete');\n",
              "    }\n",
              "    (() => {\n",
              "      let quickchartButtonEl =\n",
              "        document.querySelector('#df-8cb38be3-dc5a-4a91-8d02-1950d57f1ed5 button');\n",
              "      quickchartButtonEl.style.display =\n",
              "        google.colab.kernel.accessAllowed ? 'block' : 'none';\n",
              "    })();\n",
              "  </script>\n",
              "</div>\n",
              "\n",
              "    </div>\n",
              "  </div>\n"
            ]
          },
          "metadata": {},
          "execution_count": 247
        }
      ],
      "source": [
        "df_airline.head()"
      ]
    },
    {
      "cell_type": "code",
      "execution_count": 248,
      "id": "1b5d6bb1",
      "metadata": {
        "id": "1b5d6bb1"
      },
      "outputs": [],
      "source": [
        "df_airline.set_index('Month',inplace=True)"
      ]
    },
    {
      "cell_type": "code",
      "execution_count": 249,
      "id": "56f64765",
      "metadata": {
        "colab": {
          "base_uri": "https://localhost:8080/",
          "height": 237
        },
        "id": "56f64765",
        "outputId": "84ba4e1e-25e9-46fa-e2a9-ddfe14108d0c"
      },
      "outputs": [
        {
          "output_type": "execute_result",
          "data": {
            "text/plain": [
              "            Thousands of Passengers\n",
              "Month                              \n",
              "1949-01-01                    112.0\n",
              "1949-02-01                    118.0\n",
              "1949-03-01                    132.0\n",
              "1949-04-01                    129.0\n",
              "1949-05-01                    121.0"
            ],
            "text/html": [
              "\n",
              "  <div id=\"df-35157a7d-9d80-48a7-8ee0-276e50e78505\" class=\"colab-df-container\">\n",
              "    <div>\n",
              "<style scoped>\n",
              "    .dataframe tbody tr th:only-of-type {\n",
              "        vertical-align: middle;\n",
              "    }\n",
              "\n",
              "    .dataframe tbody tr th {\n",
              "        vertical-align: top;\n",
              "    }\n",
              "\n",
              "    .dataframe thead th {\n",
              "        text-align: right;\n",
              "    }\n",
              "</style>\n",
              "<table border=\"1\" class=\"dataframe\">\n",
              "  <thead>\n",
              "    <tr style=\"text-align: right;\">\n",
              "      <th></th>\n",
              "      <th>Thousands of Passengers</th>\n",
              "    </tr>\n",
              "    <tr>\n",
              "      <th>Month</th>\n",
              "      <th></th>\n",
              "    </tr>\n",
              "  </thead>\n",
              "  <tbody>\n",
              "    <tr>\n",
              "      <th>1949-01-01</th>\n",
              "      <td>112.0</td>\n",
              "    </tr>\n",
              "    <tr>\n",
              "      <th>1949-02-01</th>\n",
              "      <td>118.0</td>\n",
              "    </tr>\n",
              "    <tr>\n",
              "      <th>1949-03-01</th>\n",
              "      <td>132.0</td>\n",
              "    </tr>\n",
              "    <tr>\n",
              "      <th>1949-04-01</th>\n",
              "      <td>129.0</td>\n",
              "    </tr>\n",
              "    <tr>\n",
              "      <th>1949-05-01</th>\n",
              "      <td>121.0</td>\n",
              "    </tr>\n",
              "  </tbody>\n",
              "</table>\n",
              "</div>\n",
              "    <div class=\"colab-df-buttons\">\n",
              "\n",
              "  <div class=\"colab-df-container\">\n",
              "    <button class=\"colab-df-convert\" onclick=\"convertToInteractive('df-35157a7d-9d80-48a7-8ee0-276e50e78505')\"\n",
              "            title=\"Convert this dataframe to an interactive table.\"\n",
              "            style=\"display:none;\">\n",
              "\n",
              "  <svg xmlns=\"http://www.w3.org/2000/svg\" height=\"24px\" viewBox=\"0 -960 960 960\">\n",
              "    <path d=\"M120-120v-720h720v720H120Zm60-500h600v-160H180v160Zm220 220h160v-160H400v160Zm0 220h160v-160H400v160ZM180-400h160v-160H180v160Zm440 0h160v-160H620v160ZM180-180h160v-160H180v160Zm440 0h160v-160H620v160Z\"/>\n",
              "  </svg>\n",
              "    </button>\n",
              "\n",
              "  <style>\n",
              "    .colab-df-container {\n",
              "      display:flex;\n",
              "      gap: 12px;\n",
              "    }\n",
              "\n",
              "    .colab-df-convert {\n",
              "      background-color: #E8F0FE;\n",
              "      border: none;\n",
              "      border-radius: 50%;\n",
              "      cursor: pointer;\n",
              "      display: none;\n",
              "      fill: #1967D2;\n",
              "      height: 32px;\n",
              "      padding: 0 0 0 0;\n",
              "      width: 32px;\n",
              "    }\n",
              "\n",
              "    .colab-df-convert:hover {\n",
              "      background-color: #E2EBFA;\n",
              "      box-shadow: 0px 1px 2px rgba(60, 64, 67, 0.3), 0px 1px 3px 1px rgba(60, 64, 67, 0.15);\n",
              "      fill: #174EA6;\n",
              "    }\n",
              "\n",
              "    .colab-df-buttons div {\n",
              "      margin-bottom: 4px;\n",
              "    }\n",
              "\n",
              "    [theme=dark] .colab-df-convert {\n",
              "      background-color: #3B4455;\n",
              "      fill: #D2E3FC;\n",
              "    }\n",
              "\n",
              "    [theme=dark] .colab-df-convert:hover {\n",
              "      background-color: #434B5C;\n",
              "      box-shadow: 0px 1px 3px 1px rgba(0, 0, 0, 0.15);\n",
              "      filter: drop-shadow(0px 1px 2px rgba(0, 0, 0, 0.3));\n",
              "      fill: #FFFFFF;\n",
              "    }\n",
              "  </style>\n",
              "\n",
              "    <script>\n",
              "      const buttonEl =\n",
              "        document.querySelector('#df-35157a7d-9d80-48a7-8ee0-276e50e78505 button.colab-df-convert');\n",
              "      buttonEl.style.display =\n",
              "        google.colab.kernel.accessAllowed ? 'block' : 'none';\n",
              "\n",
              "      async function convertToInteractive(key) {\n",
              "        const element = document.querySelector('#df-35157a7d-9d80-48a7-8ee0-276e50e78505');\n",
              "        const dataTable =\n",
              "          await google.colab.kernel.invokeFunction('convertToInteractive',\n",
              "                                                    [key], {});\n",
              "        if (!dataTable) return;\n",
              "\n",
              "        const docLinkHtml = 'Like what you see? Visit the ' +\n",
              "          '<a target=\"_blank\" href=https://colab.research.google.com/notebooks/data_table.ipynb>data table notebook</a>'\n",
              "          + ' to learn more about interactive tables.';\n",
              "        element.innerHTML = '';\n",
              "        dataTable['output_type'] = 'display_data';\n",
              "        await google.colab.output.renderOutput(dataTable, element);\n",
              "        const docLink = document.createElement('div');\n",
              "        docLink.innerHTML = docLinkHtml;\n",
              "        element.appendChild(docLink);\n",
              "      }\n",
              "    </script>\n",
              "  </div>\n",
              "\n",
              "\n",
              "<div id=\"df-0690bbc0-2d36-4c5c-a636-81190f9d8d1b\">\n",
              "  <button class=\"colab-df-quickchart\" onclick=\"quickchart('df-0690bbc0-2d36-4c5c-a636-81190f9d8d1b')\"\n",
              "            title=\"Suggest charts\"\n",
              "            style=\"display:none;\">\n",
              "\n",
              "<svg xmlns=\"http://www.w3.org/2000/svg\" height=\"24px\"viewBox=\"0 0 24 24\"\n",
              "     width=\"24px\">\n",
              "    <g>\n",
              "        <path d=\"M19 3H5c-1.1 0-2 .9-2 2v14c0 1.1.9 2 2 2h14c1.1 0 2-.9 2-2V5c0-1.1-.9-2-2-2zM9 17H7v-7h2v7zm4 0h-2V7h2v10zm4 0h-2v-4h2v4z\"/>\n",
              "    </g>\n",
              "</svg>\n",
              "  </button>\n",
              "\n",
              "<style>\n",
              "  .colab-df-quickchart {\n",
              "      --bg-color: #E8F0FE;\n",
              "      --fill-color: #1967D2;\n",
              "      --hover-bg-color: #E2EBFA;\n",
              "      --hover-fill-color: #174EA6;\n",
              "      --disabled-fill-color: #AAA;\n",
              "      --disabled-bg-color: #DDD;\n",
              "  }\n",
              "\n",
              "  [theme=dark] .colab-df-quickchart {\n",
              "      --bg-color: #3B4455;\n",
              "      --fill-color: #D2E3FC;\n",
              "      --hover-bg-color: #434B5C;\n",
              "      --hover-fill-color: #FFFFFF;\n",
              "      --disabled-bg-color: #3B4455;\n",
              "      --disabled-fill-color: #666;\n",
              "  }\n",
              "\n",
              "  .colab-df-quickchart {\n",
              "    background-color: var(--bg-color);\n",
              "    border: none;\n",
              "    border-radius: 50%;\n",
              "    cursor: pointer;\n",
              "    display: none;\n",
              "    fill: var(--fill-color);\n",
              "    height: 32px;\n",
              "    padding: 0;\n",
              "    width: 32px;\n",
              "  }\n",
              "\n",
              "  .colab-df-quickchart:hover {\n",
              "    background-color: var(--hover-bg-color);\n",
              "    box-shadow: 0 1px 2px rgba(60, 64, 67, 0.3), 0 1px 3px 1px rgba(60, 64, 67, 0.15);\n",
              "    fill: var(--button-hover-fill-color);\n",
              "  }\n",
              "\n",
              "  .colab-df-quickchart-complete:disabled,\n",
              "  .colab-df-quickchart-complete:disabled:hover {\n",
              "    background-color: var(--disabled-bg-color);\n",
              "    fill: var(--disabled-fill-color);\n",
              "    box-shadow: none;\n",
              "  }\n",
              "\n",
              "  .colab-df-spinner {\n",
              "    border: 2px solid var(--fill-color);\n",
              "    border-color: transparent;\n",
              "    border-bottom-color: var(--fill-color);\n",
              "    animation:\n",
              "      spin 1s steps(1) infinite;\n",
              "  }\n",
              "\n",
              "  @keyframes spin {\n",
              "    0% {\n",
              "      border-color: transparent;\n",
              "      border-bottom-color: var(--fill-color);\n",
              "      border-left-color: var(--fill-color);\n",
              "    }\n",
              "    20% {\n",
              "      border-color: transparent;\n",
              "      border-left-color: var(--fill-color);\n",
              "      border-top-color: var(--fill-color);\n",
              "    }\n",
              "    30% {\n",
              "      border-color: transparent;\n",
              "      border-left-color: var(--fill-color);\n",
              "      border-top-color: var(--fill-color);\n",
              "      border-right-color: var(--fill-color);\n",
              "    }\n",
              "    40% {\n",
              "      border-color: transparent;\n",
              "      border-right-color: var(--fill-color);\n",
              "      border-top-color: var(--fill-color);\n",
              "    }\n",
              "    60% {\n",
              "      border-color: transparent;\n",
              "      border-right-color: var(--fill-color);\n",
              "    }\n",
              "    80% {\n",
              "      border-color: transparent;\n",
              "      border-right-color: var(--fill-color);\n",
              "      border-bottom-color: var(--fill-color);\n",
              "    }\n",
              "    90% {\n",
              "      border-color: transparent;\n",
              "      border-bottom-color: var(--fill-color);\n",
              "    }\n",
              "  }\n",
              "</style>\n",
              "\n",
              "  <script>\n",
              "    async function quickchart(key) {\n",
              "      const quickchartButtonEl =\n",
              "        document.querySelector('#' + key + ' button');\n",
              "      quickchartButtonEl.disabled = true;  // To prevent multiple clicks.\n",
              "      quickchartButtonEl.classList.add('colab-df-spinner');\n",
              "      try {\n",
              "        const charts = await google.colab.kernel.invokeFunction(\n",
              "            'suggestCharts', [key], {});\n",
              "      } catch (error) {\n",
              "        console.error('Error during call to suggestCharts:', error);\n",
              "      }\n",
              "      quickchartButtonEl.classList.remove('colab-df-spinner');\n",
              "      quickchartButtonEl.classList.add('colab-df-quickchart-complete');\n",
              "    }\n",
              "    (() => {\n",
              "      let quickchartButtonEl =\n",
              "        document.querySelector('#df-0690bbc0-2d36-4c5c-a636-81190f9d8d1b button');\n",
              "      quickchartButtonEl.style.display =\n",
              "        google.colab.kernel.accessAllowed ? 'block' : 'none';\n",
              "    })();\n",
              "  </script>\n",
              "</div>\n",
              "\n",
              "    </div>\n",
              "  </div>\n"
            ]
          },
          "metadata": {},
          "execution_count": 249
        }
      ],
      "source": [
        "df_airline.head()"
      ]
    },
    {
      "cell_type": "code",
      "execution_count": 250,
      "id": "fd83f7a1",
      "metadata": {
        "colab": {
          "base_uri": "https://localhost:8080/",
          "height": 466
        },
        "id": "fd83f7a1",
        "outputId": "8daed022-6856-4d12-d83b-fc1f828c4e97"
      },
      "outputs": [
        {
          "output_type": "execute_result",
          "data": {
            "text/plain": [
              "<Axes: xlabel='Month'>"
            ]
          },
          "metadata": {},
          "execution_count": 250
        },
        {
          "output_type": "display_data",
          "data": {
            "text/plain": [
              "<Figure size 640x480 with 1 Axes>"
            ],
            "image/png": "[encoded data removed]"
          },
          "metadata": {}
        }
      ],
      "source": [
        "df_airline.plot()"
      ]
    },
    {
      "cell_type": "code",
      "execution_count": 251,
      "id": "31334a4c",
      "metadata": {
        "id": "31334a4c"
      },
      "outputs": [],
      "source": [
        "from statsmodels.tsa.stattools import adfuller"
      ]
    },
    {
      "cell_type": "code",
      "execution_count": 252,
      "id": "88c9760d",
      "metadata": {
        "id": "88c9760d"
      },
      "outputs": [],
      "source": [
        "def adf_test(series):\n",
        "    result=adfuller(series)\n",
        "    print('ADF Statistics: {}'.format(result[0]))\n",
        "    print('p- value: {}'.format(result[1]))\n",
        "    if result[1] <= 0.05:\n",
        "        print(\"strong evidence against the null hypothesis, reject the null hypothesis. Data has no unit root and is stationary\")\n",
        "    else:\n",
        "        print(\"weak evidence against null hypothesis, time series has a unit root, indicating it is non-stationary \")"
      ]
    },
    {
      "cell_type": "code",
      "execution_count": 253,
      "id": "5487bf1e",
      "metadata": {
        "colab": {
          "base_uri": "https://localhost:8080/"
        },
        "id": "5487bf1e",
        "outputId": "a8a6a332-ff50-436f-e9aa-a26ebdc86bcd"
      },
      "outputs": [
        {
          "output_type": "stream",
          "name": "stdout",
          "text": [
            "ADF Statistics: 0.8153688792060498\n",
            "p- value: 0.991880243437641\n",
            "weak evidence against null hypothesis, time series has a unit root, indicating it is non-stationary \n"
          ]
        }
      ],
      "source": [
        "adf_test(df_airline['Thousands of Passengers'])"
      ]
    },
    {
      "cell_type": "code",
      "execution_count": 254,
      "id": "7b632838",
      "metadata": {
        "id": "7b632838"
      },
      "outputs": [],
      "source": [
        "## Use Techniques Differencing\n",
        "df_airline['Passengers First Difference']=df_airline['Thousands of Passengers']-df_airline['Thousands of Passengers'].shift(1)"
      ]
    },
    {
      "cell_type": "code",
      "execution_count": 255,
      "id": "c80a6972",
      "metadata": {
        "colab": {
          "base_uri": "https://localhost:8080/"
        },
        "id": "c80a6972",
        "outputId": "3cfca380-26a2-4a6f-8fca-e6ae4206acf8"
      },
      "outputs": [
        {
          "output_type": "stream",
          "name": "stdout",
          "text": [
            "ADF Statistics: -2.8292668241700047\n",
            "p- value: 0.05421329028382478\n",
            "weak evidence against null hypothesis, time series has a unit root, indicating it is non-stationary \n"
          ]
        }
      ],
      "source": [
        "adf_test(df_airline['Passengers First Difference'].dropna())"
      ]
    },
    {
      "cell_type": "code",
      "execution_count": 256,
      "id": "8c10bc6c",
      "metadata": {
        "id": "8c10bc6c"
      },
      "outputs": [],
      "source": [
        "## Use Techniques Differencing\n",
        "df_airline['Passengers Second Difference']=df_airline['Passengers First Difference']-df_airline['Passengers First Difference'].shift(1)"
      ]
    },
    {
      "cell_type": "code",
      "execution_count": 257,
      "id": "40ebf2aa",
      "metadata": {
        "colab": {
          "base_uri": "https://localhost:8080/"
        },
        "id": "40ebf2aa",
        "outputId": "5769cfc8-6dc6-4b24-de67-60b078783b9f"
      },
      "outputs": [
        {
          "output_type": "stream",
          "name": "stdout",
          "text": [
            "ADF Statistics: -16.384231542468513\n",
            "p- value: 2.7328918500142026e-29\n",
            "strong evidence against the null hypothesis, reject the null hypothesis. Data has no unit root and is stationary\n"
          ]
        }
      ],
      "source": [
        "adf_test(df_airline['Passengers Second Difference'].dropna())"
      ]
    },
    {
      "cell_type": "code",
      "execution_count": 258,
      "id": "67d483db",
      "metadata": {
        "id": "67d483db"
      },
      "outputs": [],
      "source": [
        "### 12 months\n",
        "## Use Techniques Differencing\n",
        "df_airline['Passengers 12 Difference']=df_airline['Thousands of Passengers']-df_airline['Thousands of Passengers'].shift(12)"
      ]
    },
    {
      "cell_type": "code",
      "execution_count": 259,
      "id": "811d1a28",
      "metadata": {
        "colab": {
          "base_uri": "https://localhost:8080/"
        },
        "id": "811d1a28",
        "outputId": "8ec3c966-28f2-4ea2-995d-c1f43c66a53d"
      },
      "outputs": [
        {
          "output_type": "stream",
          "name": "stdout",
          "text": [
            "ADF Statistics: -3.383020726492481\n",
            "p- value: 0.011551493085514952\n",
            "strong evidence against the null hypothesis, reject the null hypothesis. Data has no unit root and is stationary\n"
          ]
        }
      ],
      "source": [
        "adf_test(df_airline['Passengers 12 Difference'].dropna())"
      ]
    },
    {
      "cell_type": "code",
      "execution_count": 260,
      "id": "ebb905a3",
      "metadata": {
        "id": "ebb905a3"
      },
      "outputs": [],
      "source": [
        "from statsmodels.graphics.tsaplots import plot_acf,plot_pacf"
      ]
    },
    {
      "cell_type": "code",
      "execution_count": 261,
      "id": "5a378cfc",
      "metadata": {
        "colab": {
          "base_uri": "https://localhost:8080/",
          "height": 887
        },
        "id": "5a378cfc",
        "outputId": "a4c0ae65-f013-464d-a03f-4c2e4d16af39"
      },
      "outputs": [
        {
          "output_type": "display_data",
          "data": {
            "text/plain": [
              "<Figure size 640x480 with 1 Axes>"
            ],
            "image/png": "[encoded data removed]"
          },
          "metadata": {}
        },
        {
          "output_type": "display_data",
          "data": {
            "text/plain": [
              "<Figure size 640x480 with 1 Axes>"
            ],
            "image/png": "[encoded data removed]"
          },
          "metadata": {}
        }
      ],
      "source": [
        "# result = plot_pacf(df_airline[\"Passengers Second Difference\"].dropna())\n",
        "acf2 = plot_acf(df_airline[\"Passengers Second Difference\"].dropna())\n",
        "pacf2 = plot_pacf(df_airline[\"Passengers Second Difference\"].dropna())"
      ]
    },
    {
      "cell_type": "code",
      "execution_count": 262,
      "id": "0f8a1ab0",
      "metadata": {
        "id": "0f8a1ab0"
      },
      "outputs": [],
      "source": [
        "from datetime import datetime,timedelta\n",
        "train_dataset_end=datetime(1955,12,1)\n",
        "test_dataset_end=datetime(1960,12,1)"
      ]
    },
    {
      "cell_type": "code",
      "execution_count": 263,
      "id": "9f4012f4",
      "metadata": {
        "id": "9f4012f4"
      },
      "outputs": [],
      "source": [
        "train_data=df_airline[:train_dataset_end]\n",
        "test_data=df_airline[train_dataset_end+timedelta(days=1):test_dataset_end]"
      ]
    },
    {
      "cell_type": "code",
      "execution_count": 264,
      "id": "f15a58e9",
      "metadata": {
        "id": "f15a58e9"
      },
      "outputs": [],
      "source": [
        "##prediction\n",
        "pred_start_date=test_data.index[0]\n",
        "pred_end_date=test_data.index[-1]"
      ]
    },
    {
      "cell_type": "code",
      "execution_count": 265,
      "id": "f9dfdc21",
      "metadata": {
        "id": "f9dfdc21"
      },
      "outputs": [],
      "source": [
        "## create a ARIMA model\n",
        "from statsmodels.tsa.arima_model import ARIMA"
      ]
    },
    {
      "cell_type": "code",
      "source": [
        "from statsmodels.tsa.arima.model import ARIMA  # Use the correct path\n"
      ],
      "metadata": {
        "id": "4r2ym5SOLC52"
      },
      "id": "4r2ym5SOLC52",
      "execution_count": 266,
      "outputs": []
    },
    {
      "cell_type": "code",
      "execution_count": 267,
      "id": "b7f4a46a",
      "metadata": {
        "colab": {
          "base_uri": "https://localhost:8080/"
        },
        "id": "b7f4a46a",
        "outputId": "4cb94bf8-4064-463f-c774-afe33d8ce9e9"
      },
      "outputs": [
        {
          "output_type": "stream",
          "name": "stderr",
          "text": [
            "/usr/local/lib/python3.10/dist-packages/statsmodels/tsa/base/tsa_model.py:473: ValueWarning: No frequency information was provided, so inferred frequency MS will be used.\n",
            "  self._init_dates(dates, freq)\n",
            "/usr/local/lib/python3.10/dist-packages/statsmodels/tsa/base/tsa_model.py:473: ValueWarning: No frequency information was provided, so inferred frequency MS will be used.\n",
            "  self._init_dates(dates, freq)\n",
            "/usr/local/lib/python3.10/dist-packages/statsmodels/tsa/base/tsa_model.py:473: ValueWarning: No frequency information was provided, so inferred frequency MS will be used.\n",
            "  self._init_dates(dates, freq)\n"
          ]
        }
      ],
      "source": [
        "model_ARIMA=ARIMA(train_data['Thousands of Passengers'],order=(12,2,12))"
      ]
    },
    {
      "cell_type": "code",
      "execution_count": 268,
      "id": "0357c2fe",
      "metadata": {
        "colab": {
          "base_uri": "https://localhost:8080/"
        },
        "id": "0357c2fe",
        "outputId": "031917d7-c385-4c4e-8c3f-c9bf1495110c"
      },
      "outputs": [
        {
          "output_type": "stream",
          "name": "stderr",
          "text": [
            "/usr/local/lib/python3.10/dist-packages/statsmodels/tsa/statespace/sarimax.py:966: UserWarning: Non-stationary starting autoregressive parameters found. Using zeros as starting parameters.\n",
            "  warn('Non-stationary starting autoregressive parameters'\n",
            "/usr/local/lib/python3.10/dist-packages/statsmodels/tsa/statespace/sarimax.py:978: UserWarning: Non-invertible starting MA parameters found. Using zeros as starting parameters.\n",
            "  warn('Non-invertible starting MA parameters found.'\n",
            "/usr/local/lib/python3.10/dist-packages/statsmodels/base/model.py:607: ConvergenceWarning: Maximum Likelihood optimization failed to converge. Check mle_retvals\n",
            "  warnings.warn(\"Maximum Likelihood optimization failed to \"\n"
          ]
        }
      ],
      "source": [
        "model_Arima_fit=model_ARIMA.fit()"
      ]
    },
    {
      "cell_type": "code",
      "execution_count": 269,
      "id": "58b9e11c",
      "metadata": {
        "colab": {
          "base_uri": "https://localhost:8080/",
          "height": 884
        },
        "id": "58b9e11c",
        "outputId": "d5afb3ee-6a00-4da0-d6bd-ff8b838e9e10"
      },
      "outputs": [
        {
          "output_type": "execute_result",
          "data": {
            "text/plain": [
              "<class 'statsmodels.iolib.summary.Summary'>\n",
              "\"\"\"\n",
              "                                  SARIMAX Results                                  \n",
              "===================================================================================\n",
              "Dep. Variable:     Thousands of Passengers   No. Observations:                   84\n",
              "Model:                    ARIMA(12, 2, 12)   Log Likelihood                -306.223\n",
              "Date:                     Fri, 26 Jan 2024   AIC                            662.445\n",
              "Time:                             17:53:24   BIC                            722.613\n",
              "Sample:                         01-01-1949   HQIC                           686.602\n",
              "                              - 12-01-1955                                         \n",
              "Covariance Type:                       opg                                         \n",
              "==============================================================================\n",
              "                 coef    std err          z      P>|z|      [0.025      0.975]\n",
              "------------------------------------------------------------------------------\n",
              "ar.L1         -0.3294      0.813     -0.405      0.685      -1.923       1.264\n",
              "ar.L2         -0.5924      0.749     -0.791      0.429      -2.060       0.875\n",
              "ar.L3         -0.3796      0.771     -0.492      0.622      -1.891       1.131\n",
              "ar.L4         -0.5011      0.716     -0.700      0.484      -1.904       0.902\n",
              "ar.L5         -0.4702      0.750     -0.627      0.531      -1.940       1.000\n",
              "ar.L6         -0.3758      0.789     -0.476      0.634      -1.922       1.170\n",
              "ar.L7         -0.5336      0.657     -0.812      0.417      -1.821       0.754\n",
              "ar.L8         -0.4415      0.763     -0.579      0.563      -1.936       1.053\n",
              "ar.L9         -0.5141      0.722     -0.712      0.477      -1.930       0.902\n",
              "ar.L10        -0.4536      0.769     -0.590      0.555      -1.961       1.053\n",
              "ar.L11        -0.3804      0.712     -0.534      0.593      -1.777       1.016\n",
              "ar.L12         0.3539      0.659      0.537      0.591      -0.938       1.646\n",
              "ma.L1         -0.8651      0.923     -0.937      0.349      -2.675       0.945\n",
              "ma.L2          0.2990      1.093      0.274      0.784      -1.844       2.442\n",
              "ma.L3         -0.4680      1.190     -0.393      0.694      -2.801       1.865\n",
              "ma.L4          0.2880      1.283      0.224      0.822      -2.227       2.803\n",
              "ma.L5         -0.0174      1.430     -0.012      0.990      -2.820       2.786\n",
              "ma.L6         -0.2217      1.473     -0.151      0.880      -3.108       2.665\n",
              "ma.L7          0.4035      1.289      0.313      0.754      -2.123       2.930\n",
              "ma.L8         -0.5164      1.079     -0.479      0.632      -2.630       1.598\n",
              "ma.L9          0.6574      0.816      0.805      0.421      -0.942       2.257\n",
              "ma.L10        -0.5796      0.616     -0.940      0.347      -1.788       0.629\n",
              "ma.L11         0.2752      0.486      0.566      0.571      -0.678       1.228\n",
              "ma.L12        -0.1914      0.387     -0.495      0.621      -0.950       0.567\n",
              "sigma2        77.0333     26.997      2.853      0.004      24.120     129.947\n",
              "===================================================================================\n",
              "Ljung-Box (L1) (Q):                   0.04   Jarque-Bera (JB):                 2.02\n",
              "Prob(Q):                              0.84   Prob(JB):                         0.36\n",
              "Heteroskedasticity (H):               2.23   Skew:                             0.38\n",
              "Prob(H) (two-sided):                  0.04   Kurtosis:                         3.02\n",
              "===================================================================================\n",
              "\n",
              "Warnings:\n",
              "[1] Covariance matrix calculated using the outer product of gradients (complex-step).\n",
              "\"\"\""
            ],
            "text/html": [
              "<table class=\"simpletable\">\n",
              "<caption>SARIMAX Results</caption>\n",
              "<tr>\n",
              "  <th>Dep. Variable:</th>   <td>Thousands of Passengers</td> <th>  No. Observations:  </th>    <td>84</td>   \n",
              "</tr>\n",
              "<tr>\n",
              "  <th>Model:</th>              <td>ARIMA(12, 2, 12)</td>     <th>  Log Likelihood     </th> <td>-306.223</td>\n",
              "</tr>\n",
              "<tr>\n",
              "  <th>Date:</th>               <td>Fri, 26 Jan 2024</td>     <th>  AIC                </th>  <td>662.445</td>\n",
              "</tr>\n",
              "<tr>\n",
              "  <th>Time:</th>                   <td>17:53:24</td>         <th>  BIC                </th>  <td>722.613</td>\n",
              "</tr>\n",
              "<tr>\n",
              "  <th>Sample:</th>                <td>01-01-1949</td>        <th>  HQIC               </th>  <td>686.602</td>\n",
              "</tr>\n",
              "<tr>\n",
              "  <th></th>                      <td>- 12-01-1955</td>       <th>                     </th>     <td> </td>   \n",
              "</tr>\n",
              "<tr>\n",
              "  <th>Covariance Type:</th>           <td>opg</td>           <th>                     </th>     <td> </td>   \n",
              "</tr>\n",
              "</table>\n",
              "<table class=\"simpletable\">\n",
              "<tr>\n",
              "     <td></td>       <th>coef</th>     <th>std err</th>      <th>z</th>      <th>P>|z|</th>  <th>[0.025</th>    <th>0.975]</th>  \n",
              "</tr>\n",
              "<tr>\n",
              "  <th>ar.L1</th>  <td>   -0.3294</td> <td>    0.813</td> <td>   -0.405</td> <td> 0.685</td> <td>   -1.923</td> <td>    1.264</td>\n",
              "</tr>\n",
              "<tr>\n",
              "  <th>ar.L2</th>  <td>   -0.5924</td> <td>    0.749</td> <td>   -0.791</td> <td> 0.429</td> <td>   -2.060</td> <td>    0.875</td>\n",
              "</tr>\n",
              "<tr>\n",
              "  <th>ar.L3</th>  <td>   -0.3796</td> <td>    0.771</td> <td>   -0.492</td> <td> 0.622</td> <td>   -1.891</td> <td>    1.131</td>\n",
              "</tr>\n",
              "<tr>\n",
              "  <th>ar.L4</th>  <td>   -0.5011</td> <td>    0.716</td> <td>   -0.700</td> <td> 0.484</td> <td>   -1.904</td> <td>    0.902</td>\n",
              "</tr>\n",
              "<tr>\n",
              "  <th>ar.L5</th>  <td>   -0.4702</td> <td>    0.750</td> <td>   -0.627</td> <td> 0.531</td> <td>   -1.940</td> <td>    1.000</td>\n",
              "</tr>\n",
              "<tr>\n",
              "  <th>ar.L6</th>  <td>   -0.3758</td> <td>    0.789</td> <td>   -0.476</td> <td> 0.634</td> <td>   -1.922</td> <td>    1.170</td>\n",
              "</tr>\n",
              "<tr>\n",
              "  <th>ar.L7</th>  <td>   -0.5336</td> <td>    0.657</td> <td>   -0.812</td> <td> 0.417</td> <td>   -1.821</td> <td>    0.754</td>\n",
              "</tr>\n",
              "<tr>\n",
              "  <th>ar.L8</th>  <td>   -0.4415</td> <td>    0.763</td> <td>   -0.579</td> <td> 0.563</td> <td>   -1.936</td> <td>    1.053</td>\n",
              "</tr>\n",
              "<tr>\n",
              "  <th>ar.L9</th>  <td>   -0.5141</td> <td>    0.722</td> <td>   -0.712</td> <td> 0.477</td> <td>   -1.930</td> <td>    0.902</td>\n",
              "</tr>\n",
              "<tr>\n",
              "  <th>ar.L10</th> <td>   -0.4536</td> <td>    0.769</td> <td>   -0.590</td> <td> 0.555</td> <td>   -1.961</td> <td>    1.053</td>\n",
              "</tr>\n",
              "<tr>\n",
              "  <th>ar.L11</th> <td>   -0.3804</td> <td>    0.712</td> <td>   -0.534</td> <td> 0.593</td> <td>   -1.777</td> <td>    1.016</td>\n",
              "</tr>\n",
              "<tr>\n",
              "  <th>ar.L12</th> <td>    0.3539</td> <td>    0.659</td> <td>    0.537</td> <td> 0.591</td> <td>   -0.938</td> <td>    1.646</td>\n",
              "</tr>\n",
              "<tr>\n",
              "  <th>ma.L1</th>  <td>   -0.8651</td> <td>    0.923</td> <td>   -0.937</td> <td> 0.349</td> <td>   -2.675</td> <td>    0.945</td>\n",
              "</tr>\n",
              "<tr>\n",
              "  <th>ma.L2</th>  <td>    0.2990</td> <td>    1.093</td> <td>    0.274</td> <td> 0.784</td> <td>   -1.844</td> <td>    2.442</td>\n",
              "</tr>\n",
              "<tr>\n",
              "  <th>ma.L3</th>  <td>   -0.4680</td> <td>    1.190</td> <td>   -0.393</td> <td> 0.694</td> <td>   -2.801</td> <td>    1.865</td>\n",
              "</tr>\n",
              "<tr>\n",
              "  <th>ma.L4</th>  <td>    0.2880</td> <td>    1.283</td> <td>    0.224</td> <td> 0.822</td> <td>   -2.227</td> <td>    2.803</td>\n",
              "</tr>\n",
              "<tr>\n",
              "  <th>ma.L5</th>  <td>   -0.0174</td> <td>    1.430</td> <td>   -0.012</td> <td> 0.990</td> <td>   -2.820</td> <td>    2.786</td>\n",
              "</tr>\n",
              "<tr>\n",
              "  <th>ma.L6</th>  <td>   -0.2217</td> <td>    1.473</td> <td>   -0.151</td> <td> 0.880</td> <td>   -3.108</td> <td>    2.665</td>\n",
              "</tr>\n",
              "<tr>\n",
              "  <th>ma.L7</th>  <td>    0.4035</td> <td>    1.289</td> <td>    0.313</td> <td> 0.754</td> <td>   -2.123</td> <td>    2.930</td>\n",
              "</tr>\n",
              "<tr>\n",
              "  <th>ma.L8</th>  <td>   -0.5164</td> <td>    1.079</td> <td>   -0.479</td> <td> 0.632</td> <td>   -2.630</td> <td>    1.598</td>\n",
              "</tr>\n",
              "<tr>\n",
              "  <th>ma.L9</th>  <td>    0.6574</td> <td>    0.816</td> <td>    0.805</td> <td> 0.421</td> <td>   -0.942</td> <td>    2.257</td>\n",
              "</tr>\n",
              "<tr>\n",
              "  <th>ma.L10</th> <td>   -0.5796</td> <td>    0.616</td> <td>   -0.940</td> <td> 0.347</td> <td>   -1.788</td> <td>    0.629</td>\n",
              "</tr>\n",
              "<tr>\n",
              "  <th>ma.L11</th> <td>    0.2752</td> <td>    0.486</td> <td>    0.566</td> <td> 0.571</td> <td>   -0.678</td> <td>    1.228</td>\n",
              "</tr>\n",
              "<tr>\n",
              "  <th>ma.L12</th> <td>   -0.1914</td> <td>    0.387</td> <td>   -0.495</td> <td> 0.621</td> <td>   -0.950</td> <td>    0.567</td>\n",
              "</tr>\n",
              "<tr>\n",
              "  <th>sigma2</th> <td>   77.0333</td> <td>   26.997</td> <td>    2.853</td> <td> 0.004</td> <td>   24.120</td> <td>  129.947</td>\n",
              "</tr>\n",
              "</table>\n",
              "<table class=\"simpletable\">\n",
              "<tr>\n",
              "  <th>Ljung-Box (L1) (Q):</th>     <td>0.04</td> <th>  Jarque-Bera (JB):  </th> <td>2.02</td>\n",
              "</tr>\n",
              "<tr>\n",
              "  <th>Prob(Q):</th>                <td>0.84</td> <th>  Prob(JB):          </th> <td>0.36</td>\n",
              "</tr>\n",
              "<tr>\n",
              "  <th>Heteroskedasticity (H):</th> <td>2.23</td> <th>  Skew:              </th> <td>0.38</td>\n",
              "</tr>\n",
              "<tr>\n",
              "  <th>Prob(H) (two-sided):</th>    <td>0.04</td> <th>  Kurtosis:          </th> <td>3.02</td>\n",
              "</tr>\n",
              "</table><br/><br/>Warnings:<br/>[1] Covariance matrix calculated using the outer product of gradients (complex-step)."
            ],
            "text/latex": "\\begin{center}\n\\begin{tabular}{lclc}\n\\toprule\n\\textbf{Dep. Variable:}          & Thousands of Passengers & \\textbf{  No. Observations:  } &     84      \\\\\n\\textbf{Model:}                  &     ARIMA(12, 2, 12)    & \\textbf{  Log Likelihood     } &  -306.223   \\\\\n\\textbf{Date:}                   &     Fri, 26 Jan 2024    & \\textbf{  AIC                } &  662.445    \\\\\n\\textbf{Time:}                   &         17:53:24        & \\textbf{  BIC                } &  722.613    \\\\\n\\textbf{Sample:}                 &        01-01-1949       & \\textbf{  HQIC               } &  686.602    \\\\\n\\textbf{}                        &       - 12-01-1955      & \\textbf{                     } &             \\\\\n\\textbf{Covariance Type:}        &           opg           & \\textbf{                     } &             \\\\\n\\bottomrule\n\\end{tabular}\n\\begin{tabular}{lcccccc}\n                & \\textbf{coef} & \\textbf{std err} & \\textbf{z} & \\textbf{P$> |$z$|$} & \\textbf{[0.025} & \\textbf{0.975]}  \\\\\n\\midrule\n\\textbf{ar.L1}  &      -0.3294  &        0.813     &    -0.405  &         0.685        &       -1.923    &        1.264     \\\\\n\\textbf{ar.L2}  &      -0.5924  &        0.749     &    -0.791  &         0.429        &       -2.060    &        0.875     \\\\\n\\textbf{ar.L3}  &      -0.3796  &        0.771     &    -0.492  &         0.622        &       -1.891    &        1.131     \\\\\n\\textbf{ar.L4}  &      -0.5011  &        0.716     &    -0.700  &         0.484        &       -1.904    &        0.902     \\\\\n\\textbf{ar.L5}  &      -0.4702  &        0.750     &    -0.627  &         0.531        &       -1.940    &        1.000     \\\\\n\\textbf{ar.L6}  &      -0.3758  &        0.789     &    -0.476  &         0.634        &       -1.922    &        1.170     \\\\\n\\textbf{ar.L7}  &      -0.5336  &        0.657     &    -0.812  &         0.417        &       -1.821    &        0.754     \\\\\n\\textbf{ar.L8}  &      -0.4415  &        0.763     &    -0.579  &         0.563        &       -1.936    &        1.053     \\\\\n\\textbf{ar.L9}  &      -0.5141  &        0.722     &    -0.712  &         0.477        &       -1.930    &        0.902     \\\\\n\\textbf{ar.L10} &      -0.4536  &        0.769     &    -0.590  &         0.555        &       -1.961    &        1.053     \\\\\n\\textbf{ar.L11} &      -0.3804  &        0.712     &    -0.534  &         0.593        &       -1.777    &        1.016     \\\\\n\\textbf{ar.L12} &       0.3539  &        0.659     &     0.537  &         0.591        &       -0.938    &        1.646     \\\\\n\\textbf{ma.L1}  &      -0.8651  &        0.923     &    -0.937  &         0.349        &       -2.675    &        0.945     \\\\\n\\textbf{ma.L2}  &       0.2990  &        1.093     &     0.274  &         0.784        &       -1.844    &        2.442     \\\\\n\\textbf{ma.L3}  &      -0.4680  &        1.190     &    -0.393  &         0.694        &       -2.801    &        1.865     \\\\\n\\textbf{ma.L4}  &       0.2880  &        1.283     &     0.224  &         0.822        &       -2.227    &        2.803     \\\\\n\\textbf{ma.L5}  &      -0.0174  &        1.430     &    -0.012  &         0.990        &       -2.820    &        2.786     \\\\\n\\textbf{ma.L6}  &      -0.2217  &        1.473     &    -0.151  &         0.880        &       -3.108    &        2.665     \\\\\n\\textbf{ma.L7}  &       0.4035  &        1.289     &     0.313  &         0.754        &       -2.123    &        2.930     \\\\\n\\textbf{ma.L8}  &      -0.5164  &        1.079     &    -0.479  &         0.632        &       -2.630    &        1.598     \\\\\n\\textbf{ma.L9}  &       0.6574  &        0.816     &     0.805  &         0.421        &       -0.942    &        2.257     \\\\\n\\textbf{ma.L10} &      -0.5796  &        0.616     &    -0.940  &         0.347        &       -1.788    &        0.629     \\\\\n\\textbf{ma.L11} &       0.2752  &        0.486     &     0.566  &         0.571        &       -0.678    &        1.228     \\\\\n\\textbf{ma.L12} &      -0.1914  &        0.387     &    -0.495  &         0.621        &       -0.950    &        0.567     \\\\\n\\textbf{sigma2} &      77.0333  &       26.997     &     2.853  &         0.004        &       24.120    &      129.947     \\\\\n\\bottomrule\n\\end{tabular}\n\\begin{tabular}{lclc}\n\\textbf{Ljung-Box (L1) (Q):}     & 0.04 & \\textbf{  Jarque-Bera (JB):  } & 2.02  \\\\\n\\textbf{Prob(Q):}                & 0.84 & \\textbf{  Prob(JB):          } & 0.36  \\\\\n\\textbf{Heteroskedasticity (H):} & 2.23 & \\textbf{  Skew:              } & 0.38  \\\\\n\\textbf{Prob(H) (two-sided):}    & 0.04 & \\textbf{  Kurtosis:          } & 3.02  \\\\\n\\bottomrule\n\\end{tabular}\n%\\caption{SARIMAX Results}\n\\end{center}\n\nWarnings: \\newline\n [1] Covariance matrix calculated using the outer product of gradients (complex-step)."
          },
          "metadata": {},
          "execution_count": 269
        }
      ],
      "source": [
        "model_Arima_fit.summary()"
      ]
    },
    {
      "cell_type": "code",
      "execution_count": 270,
      "id": "27efedb7",
      "metadata": {
        "colab": {
          "base_uri": "https://localhost:8080/"
        },
        "id": "27efedb7",
        "outputId": "4d14443f-b426-4365-9eb4-3b0949581bb7"
      },
      "outputs": [
        {
          "output_type": "stream",
          "name": "stdout",
          "text": [
            "1956-01-01 00:00:00\n",
            "1960-12-01 00:00:00\n"
          ]
        }
      ],
      "source": [
        "##prediction\n",
        "pred_start_date=test_data.index[0]\n",
        "pred_end_date=test_data.index[-1]\n",
        "print(pred_start_date)\n",
        "print(pred_end_date)"
      ]
    },
    {
      "cell_type": "code",
      "execution_count": 271,
      "id": "54ab81f3",
      "metadata": {
        "id": "54ab81f3"
      },
      "outputs": [],
      "source": [
        "pred=model_Arima_fit.predict(start=pred_start_date,end=pred_end_date)\n",
        "residuals=test_data['Thousands of Passengers']-pred"
      ]
    },
    {
      "cell_type": "code",
      "execution_count": 272,
      "id": "1b760c60",
      "metadata": {
        "colab": {
          "base_uri": "https://localhost:8080/",
          "height": 447
        },
        "id": "1b760c60",
        "outputId": "32cec911-4807-4849-e2f9-2d98ae10dac7"
      },
      "outputs": [
        {
          "output_type": "execute_result",
          "data": {
            "text/plain": [
              "<Axes: ylabel='Density'>"
            ]
          },
          "metadata": {},
          "execution_count": 272
        },
        {
          "output_type": "display_data",
          "data": {
            "text/plain": [
              "<Figure size 640x480 with 1 Axes>"
            ],
            "image/png": "[encoded data removed]"
          },
          "metadata": {}
        }
      ],
      "source": [
        "model_Arima_fit.resid.plot(kind='kde')"
      ]
    },
    {
      "cell_type": "code",
      "execution_count": 273,
      "id": "cf4e08a1",
      "metadata": {
        "colab": {
          "base_uri": "https://localhost:8080/"
        },
        "id": "cf4e08a1",
        "outputId": "795c23fd-2696-4590-cfa8-21b675b98022"
      },
      "outputs": [
        {
          "output_type": "stream",
          "name": "stderr",
          "text": [
            "<ipython-input-273-69896c9f46c9>:1: SettingWithCopyWarning: \n",
            "A value is trying to be set on a copy of a slice from a DataFrame.\n",
            "Try using .loc[row_indexer,col_indexer] = value instead\n",
            "\n",
            "See the caveats in the documentation: https://pandas.pydata.org/pandas-docs/stable/user_guide/indexing.html#returning-a-view-versus-a-copy\n",
            "  test_data['Predicted_ARIMA']=pred\n"
          ]
        }
      ],
      "source": [
        "test_data['Predicted_ARIMA']=pred"
      ]
    },
    {
      "cell_type": "code",
      "source": [
        "test_data[['Thousands of Passengers','Predicted_ARIMA']].plot()"
      ],
      "metadata": {
        "colab": {
          "base_uri": "https://localhost:8080/",
          "height": 466
        },
        "id": "VSOFJmwvuf7q",
        "outputId": "644927e3-55c0-4ba3-9d76-df67cf79ad6c"
      },
      "id": "VSOFJmwvuf7q",
      "execution_count": 274,
      "outputs": [
        {
          "output_type": "execute_result",
          "data": {
            "text/plain": [
              "<Axes: xlabel='Month'>"
            ]
          },
          "metadata": {},
          "execution_count": 274
        },
        {
          "output_type": "display_data",
          "data": {
            "text/plain": [
              "<Figure size 640x480 with 1 Axes>"
            ],
            "image/png": "[encoded data removed]"
          },
          "metadata": {}
        }
      ]
    },
    {
      "cell_type": "code",
      "execution_count": 275,
      "id": "aa962999",
      "metadata": {
        "colab": {
          "base_uri": "https://localhost:8080/",
          "height": 887
        },
        "id": "aa962999",
        "outputId": "70024607-42bd-4562-bec1-406a8b6f1703"
      },
      "outputs": [
        {
          "output_type": "display_data",
          "data": {
            "text/plain": [
              "<Figure size 640x480 with 1 Axes>"
            ],
            "image/png": "[encoded data removed]"
          },
          "metadata": {}
        },
        {
          "output_type": "display_data",
          "data": {
            "text/plain": [
              "<Figure size 640x480 with 1 Axes>"
            ],
            "image/png": "[encoded data removed]"
          },
          "metadata": {}
        }
      ],
      "source": [
        "pacf12 = plot_pacf(df_airline[\"Passengers 12 Difference\"].dropna())\n",
        "acf12 = plot_acf(df_airline[\"Passengers 12 Difference\"].dropna())\n"
      ]
    },
    {
      "cell_type": "markdown",
      "source": [
        "# SARIMAX"
      ],
      "metadata": {
        "id": "OfHQMF0L7sWE"
      },
      "id": "OfHQMF0L7sWE"
    },
    {
      "cell_type": "code",
      "execution_count": 276,
      "id": "86230e68",
      "metadata": {
        "id": "86230e68"
      },
      "outputs": [],
      "source": [
        "## create a SARIMA model\n",
        "from statsmodels.tsa.statespace.sarimax import SARIMAX"
      ]
    },
    {
      "cell_type": "code",
      "execution_count": 404,
      "id": "1da12cb6",
      "metadata": {
        "colab": {
          "base_uri": "https://localhost:8080/"
        },
        "id": "1da12cb6",
        "outputId": "53dc5bf3-8c3e-41b7-ce20-f09debe013b2"
      },
      "outputs": [
        {
          "output_type": "stream",
          "name": "stderr",
          "text": [
            "/usr/local/lib/python3.10/dist-packages/statsmodels/tsa/base/tsa_model.py:473: ValueWarning: No frequency information was provided, so inferred frequency MS will be used.\n",
            "  self._init_dates(dates, freq)\n",
            "/usr/local/lib/python3.10/dist-packages/statsmodels/tsa/base/tsa_model.py:473: ValueWarning: No frequency information was provided, so inferred frequency MS will be used.\n",
            "  self._init_dates(dates, freq)\n"
          ]
        }
      ],
      "source": [
        "model_SARIMA=SARIMAX(train_data['Thousands of Passengers'],order=(10,2,5),seasonal_order=(10,2,5,12))"
      ]
    },
    {
      "cell_type": "code",
      "execution_count": 405,
      "id": "19dcd73a",
      "metadata": {
        "colab": {
          "base_uri": "https://localhost:8080/"
        },
        "id": "19dcd73a",
        "outputId": "1035b40b-2269-4ce5-f880-ffe92e552a06"
      },
      "outputs": [
        {
          "output_type": "stream",
          "name": "stderr",
          "text": [
            "/usr/local/lib/python3.10/dist-packages/statsmodels/tsa/statespace/sarimax.py:966: UserWarning: Non-stationary starting autoregressive parameters found. Using zeros as starting parameters.\n",
            "  warn('Non-stationary starting autoregressive parameters'\n",
            "/usr/local/lib/python3.10/dist-packages/statsmodels/tsa/statespace/sarimax.py:978: UserWarning: Non-invertible starting MA parameters found. Using zeros as starting parameters.\n",
            "  warn('Non-invertible starting MA parameters found.'\n",
            "/usr/local/lib/python3.10/dist-packages/statsmodels/tsa/statespace/sarimax.py:866: UserWarning: Too few observations to estimate starting parameters for seasonal ARMA. All parameters except for variances will be set to zeros.\n",
            "  warn('Too few observations to estimate starting parameters%s.'\n",
            "/usr/local/lib/python3.10/dist-packages/statsmodels/base/model.py:607: ConvergenceWarning: Maximum Likelihood optimization failed to converge. Check mle_retvals\n",
            "  warnings.warn(\"Maximum Likelihood optimization failed to \"\n"
          ]
        }
      ],
      "source": [
        "model_SARIMA_fit=model_SARIMA.fit()"
      ]
    },
    {
      "cell_type": "code",
      "execution_count": 406,
      "id": "1864abb5",
      "metadata": {
        "id": "1864abb5",
        "colab": {
          "base_uri": "https://localhost:8080/",
          "height": 1000
        },
        "outputId": "35b6acdb-e3bb-45fc-c5ce-64e8ac3eb808"
      },
      "outputs": [
        {
          "output_type": "execute_result",
          "data": {
            "text/plain": [
              "<class 'statsmodels.iolib.summary.Summary'>\n",
              "\"\"\"\n",
              "                                      SARIMAX Results                                       \n",
              "============================================================================================\n",
              "Dep. Variable:              Thousands of Passengers   No. Observations:                   84\n",
              "Model:             SARIMAX(10, 2, 5)x(10, 2, 5, 12)   Log Likelihood                -219.442\n",
              "Date:                              Fri, 26 Jan 2024   AIC                            500.884\n",
              "Time:                                      18:10:37   BIC                            564.758\n",
              "Sample:                                  01-01-1949   HQIC                           525.764\n",
              "                                       - 12-01-1955                                         \n",
              "Covariance Type:                                opg                                         \n",
              "==============================================================================\n",
              "                 coef    std err          z      P>|z|      [0.025      0.975]\n",
              "------------------------------------------------------------------------------\n",
              "ar.L1         -0.6978     12.899     -0.054      0.957     -25.980      24.585\n",
              "ar.L2         -0.4668      5.327     -0.088      0.930     -10.907       9.973\n",
              "ar.L3         -0.2129      6.519     -0.033      0.974     -12.990      12.564\n",
              "ar.L4         -0.6863      8.399     -0.082      0.935     -17.147      15.775\n",
              "ar.L5         -0.1821      4.338     -0.042      0.967      -8.684       8.320\n",
              "ar.L6          0.2033      3.889      0.052      0.958      -7.419       7.826\n",
              "ar.L7          0.0304      2.085      0.015      0.988      -4.056       4.116\n",
              "ar.L8          0.1593      1.359      0.117      0.907      -2.505       2.824\n",
              "ar.L9          0.2909      2.566      0.113      0.910      -4.738       5.319\n",
              "ar.L10         0.2079      3.020      0.069      0.945      -5.711       6.126\n",
              "ma.L1         -0.6771     20.909     -0.032      0.974     -41.658      40.303\n",
              "ma.L2         -0.0080     16.881     -0.000      1.000     -33.094      33.078\n",
              "ma.L3         -0.4012      7.329     -0.055      0.956     -14.765      13.963\n",
              "ma.L4          0.7629     11.310      0.067      0.946     -21.405      22.931\n",
              "ma.L5         -0.6712     14.698     -0.046      0.964     -29.479      28.137\n",
              "ar.S.L12       0.2655    546.314      0.000      1.000   -1070.491    1071.022\n",
              "ar.S.L24      -0.0713    240.497     -0.000      1.000    -471.436     471.294\n",
              "ar.S.L36      -0.5280    870.024     -0.001      1.000   -1705.743    1704.687\n",
              "ar.S.L48       0.1879    692.896      0.000      1.000   -1357.863    1358.239\n",
              "ar.S.L60       0.4734    245.953      0.002      0.998    -481.585     482.532\n",
              "ar.S.L72      -0.3031    587.194     -0.001      1.000   -1151.183    1150.577\n",
              "ar.S.L84      -0.0689    303.897     -0.000      1.000    -595.696     595.558\n",
              "ar.S.L96       0.5529    896.814      0.001      1.000   -1757.171    1758.277\n",
              "ar.S.L108     -0.5163    747.079     -0.001      0.999   -1464.765    1463.733\n",
              "ar.S.L120      0.1459    398.434      0.000      1.000    -780.771     781.062\n",
              "ma.S.L12      -0.3223   2955.515     -0.000      1.000   -5793.025    5792.380\n",
              "ma.S.L24      -0.7467   1425.900     -0.001      1.000   -2795.459    2793.965\n",
              "ma.S.L36      -0.2173   1288.198     -0.000      1.000   -2525.039    2524.605\n",
              "ma.S.L48      -0.0714   1063.073  -6.71e-05      1.000   -2083.656    2083.513\n",
              "ma.S.L60       0.5037   1895.313      0.000      1.000   -3714.241    3715.248\n",
              "sigma2         5.8888   1.07e+04      0.001      1.000   -2.09e+04     2.1e+04\n",
              "===================================================================================\n",
              "Ljung-Box (L1) (Q):                   0.00   Jarque-Bera (JB):                 1.19\n",
              "Prob(Q):                              0.97   Prob(JB):                         0.55\n",
              "Heteroskedasticity (H):               1.72   Skew:                             0.33\n",
              "Prob(H) (two-sided):                  0.24   Kurtosis:                         3.21\n",
              "===================================================================================\n",
              "\n",
              "Warnings:\n",
              "[1] Covariance matrix calculated using the outer product of gradients (complex-step).\n",
              "\"\"\""
            ],
            "text/html": [
              "<table class=\"simpletable\">\n",
              "<caption>SARIMAX Results</caption>\n",
              "<tr>\n",
              "  <th>Dep. Variable:</th>        <td>Thousands of Passengers</td>     <th>  No. Observations:  </th>    <td>84</td>   \n",
              "</tr>\n",
              "<tr>\n",
              "  <th>Model:</th>           <td>SARIMAX(10, 2, 5)x(10, 2, 5, 12)</td> <th>  Log Likelihood     </th> <td>-219.442</td>\n",
              "</tr>\n",
              "<tr>\n",
              "  <th>Date:</th>                    <td>Fri, 26 Jan 2024</td>         <th>  AIC                </th>  <td>500.884</td>\n",
              "</tr>\n",
              "<tr>\n",
              "  <th>Time:</th>                        <td>18:10:37</td>             <th>  BIC                </th>  <td>564.758</td>\n",
              "</tr>\n",
              "<tr>\n",
              "  <th>Sample:</th>                     <td>01-01-1949</td>            <th>  HQIC               </th>  <td>525.764</td>\n",
              "</tr>\n",
              "<tr>\n",
              "  <th></th>                           <td>- 12-01-1955</td>           <th>                     </th>     <td> </td>   \n",
              "</tr>\n",
              "<tr>\n",
              "  <th>Covariance Type:</th>                <td>opg</td>               <th>                     </th>     <td> </td>   \n",
              "</tr>\n",
              "</table>\n",
              "<table class=\"simpletable\">\n",
              "<tr>\n",
              "      <td></td>         <th>coef</th>     <th>std err</th>      <th>z</th>      <th>P>|z|</th>  <th>[0.025</th>    <th>0.975]</th>  \n",
              "</tr>\n",
              "<tr>\n",
              "  <th>ar.L1</th>     <td>   -0.6978</td> <td>   12.899</td> <td>   -0.054</td> <td> 0.957</td> <td>  -25.980</td> <td>   24.585</td>\n",
              "</tr>\n",
              "<tr>\n",
              "  <th>ar.L2</th>     <td>   -0.4668</td> <td>    5.327</td> <td>   -0.088</td> <td> 0.930</td> <td>  -10.907</td> <td>    9.973</td>\n",
              "</tr>\n",
              "<tr>\n",
              "  <th>ar.L3</th>     <td>   -0.2129</td> <td>    6.519</td> <td>   -0.033</td> <td> 0.974</td> <td>  -12.990</td> <td>   12.564</td>\n",
              "</tr>\n",
              "<tr>\n",
              "  <th>ar.L4</th>     <td>   -0.6863</td> <td>    8.399</td> <td>   -0.082</td> <td> 0.935</td> <td>  -17.147</td> <td>   15.775</td>\n",
              "</tr>\n",
              "<tr>\n",
              "  <th>ar.L5</th>     <td>   -0.1821</td> <td>    4.338</td> <td>   -0.042</td> <td> 0.967</td> <td>   -8.684</td> <td>    8.320</td>\n",
              "</tr>\n",
              "<tr>\n",
              "  <th>ar.L6</th>     <td>    0.2033</td> <td>    3.889</td> <td>    0.052</td> <td> 0.958</td> <td>   -7.419</td> <td>    7.826</td>\n",
              "</tr>\n",
              "<tr>\n",
              "  <th>ar.L7</th>     <td>    0.0304</td> <td>    2.085</td> <td>    0.015</td> <td> 0.988</td> <td>   -4.056</td> <td>    4.116</td>\n",
              "</tr>\n",
              "<tr>\n",
              "  <th>ar.L8</th>     <td>    0.1593</td> <td>    1.359</td> <td>    0.117</td> <td> 0.907</td> <td>   -2.505</td> <td>    2.824</td>\n",
              "</tr>\n",
              "<tr>\n",
              "  <th>ar.L9</th>     <td>    0.2909</td> <td>    2.566</td> <td>    0.113</td> <td> 0.910</td> <td>   -4.738</td> <td>    5.319</td>\n",
              "</tr>\n",
              "<tr>\n",
              "  <th>ar.L10</th>    <td>    0.2079</td> <td>    3.020</td> <td>    0.069</td> <td> 0.945</td> <td>   -5.711</td> <td>    6.126</td>\n",
              "</tr>\n",
              "<tr>\n",
              "  <th>ma.L1</th>     <td>   -0.6771</td> <td>   20.909</td> <td>   -0.032</td> <td> 0.974</td> <td>  -41.658</td> <td>   40.303</td>\n",
              "</tr>\n",
              "<tr>\n",
              "  <th>ma.L2</th>     <td>   -0.0080</td> <td>   16.881</td> <td>   -0.000</td> <td> 1.000</td> <td>  -33.094</td> <td>   33.078</td>\n",
              "</tr>\n",
              "<tr>\n",
              "  <th>ma.L3</th>     <td>   -0.4012</td> <td>    7.329</td> <td>   -0.055</td> <td> 0.956</td> <td>  -14.765</td> <td>   13.963</td>\n",
              "</tr>\n",
              "<tr>\n",
              "  <th>ma.L4</th>     <td>    0.7629</td> <td>   11.310</td> <td>    0.067</td> <td> 0.946</td> <td>  -21.405</td> <td>   22.931</td>\n",
              "</tr>\n",
              "<tr>\n",
              "  <th>ma.L5</th>     <td>   -0.6712</td> <td>   14.698</td> <td>   -0.046</td> <td> 0.964</td> <td>  -29.479</td> <td>   28.137</td>\n",
              "</tr>\n",
              "<tr>\n",
              "  <th>ar.S.L12</th>  <td>    0.2655</td> <td>  546.314</td> <td>    0.000</td> <td> 1.000</td> <td>-1070.491</td> <td> 1071.022</td>\n",
              "</tr>\n",
              "<tr>\n",
              "  <th>ar.S.L24</th>  <td>   -0.0713</td> <td>  240.497</td> <td>   -0.000</td> <td> 1.000</td> <td> -471.436</td> <td>  471.294</td>\n",
              "</tr>\n",
              "<tr>\n",
              "  <th>ar.S.L36</th>  <td>   -0.5280</td> <td>  870.024</td> <td>   -0.001</td> <td> 1.000</td> <td>-1705.743</td> <td> 1704.687</td>\n",
              "</tr>\n",
              "<tr>\n",
              "  <th>ar.S.L48</th>  <td>    0.1879</td> <td>  692.896</td> <td>    0.000</td> <td> 1.000</td> <td>-1357.863</td> <td> 1358.239</td>\n",
              "</tr>\n",
              "<tr>\n",
              "  <th>ar.S.L60</th>  <td>    0.4734</td> <td>  245.953</td> <td>    0.002</td> <td> 0.998</td> <td> -481.585</td> <td>  482.532</td>\n",
              "</tr>\n",
              "<tr>\n",
              "  <th>ar.S.L72</th>  <td>   -0.3031</td> <td>  587.194</td> <td>   -0.001</td> <td> 1.000</td> <td>-1151.183</td> <td> 1150.577</td>\n",
              "</tr>\n",
              "<tr>\n",
              "  <th>ar.S.L84</th>  <td>   -0.0689</td> <td>  303.897</td> <td>   -0.000</td> <td> 1.000</td> <td> -595.696</td> <td>  595.558</td>\n",
              "</tr>\n",
              "<tr>\n",
              "  <th>ar.S.L96</th>  <td>    0.5529</td> <td>  896.814</td> <td>    0.001</td> <td> 1.000</td> <td>-1757.171</td> <td> 1758.277</td>\n",
              "</tr>\n",
              "<tr>\n",
              "  <th>ar.S.L108</th> <td>   -0.5163</td> <td>  747.079</td> <td>   -0.001</td> <td> 0.999</td> <td>-1464.765</td> <td> 1463.733</td>\n",
              "</tr>\n",
              "<tr>\n",
              "  <th>ar.S.L120</th> <td>    0.1459</td> <td>  398.434</td> <td>    0.000</td> <td> 1.000</td> <td> -780.771</td> <td>  781.062</td>\n",
              "</tr>\n",
              "<tr>\n",
              "  <th>ma.S.L12</th>  <td>   -0.3223</td> <td> 2955.515</td> <td>   -0.000</td> <td> 1.000</td> <td>-5793.025</td> <td> 5792.380</td>\n",
              "</tr>\n",
              "<tr>\n",
              "  <th>ma.S.L24</th>  <td>   -0.7467</td> <td> 1425.900</td> <td>   -0.001</td> <td> 1.000</td> <td>-2795.459</td> <td> 2793.965</td>\n",
              "</tr>\n",
              "<tr>\n",
              "  <th>ma.S.L36</th>  <td>   -0.2173</td> <td> 1288.198</td> <td>   -0.000</td> <td> 1.000</td> <td>-2525.039</td> <td> 2524.605</td>\n",
              "</tr>\n",
              "<tr>\n",
              "  <th>ma.S.L48</th>  <td>   -0.0714</td> <td> 1063.073</td> <td>-6.71e-05</td> <td> 1.000</td> <td>-2083.656</td> <td> 2083.513</td>\n",
              "</tr>\n",
              "<tr>\n",
              "  <th>ma.S.L60</th>  <td>    0.5037</td> <td> 1895.313</td> <td>    0.000</td> <td> 1.000</td> <td>-3714.241</td> <td> 3715.248</td>\n",
              "</tr>\n",
              "<tr>\n",
              "  <th>sigma2</th>    <td>    5.8888</td> <td> 1.07e+04</td> <td>    0.001</td> <td> 1.000</td> <td>-2.09e+04</td> <td>  2.1e+04</td>\n",
              "</tr>\n",
              "</table>\n",
              "<table class=\"simpletable\">\n",
              "<tr>\n",
              "  <th>Ljung-Box (L1) (Q):</th>     <td>0.00</td> <th>  Jarque-Bera (JB):  </th> <td>1.19</td>\n",
              "</tr>\n",
              "<tr>\n",
              "  <th>Prob(Q):</th>                <td>0.97</td> <th>  Prob(JB):          </th> <td>0.55</td>\n",
              "</tr>\n",
              "<tr>\n",
              "  <th>Heteroskedasticity (H):</th> <td>1.72</td> <th>  Skew:              </th> <td>0.33</td>\n",
              "</tr>\n",
              "<tr>\n",
              "  <th>Prob(H) (two-sided):</th>    <td>0.24</td> <th>  Kurtosis:          </th> <td>3.21</td>\n",
              "</tr>\n",
              "</table><br/><br/>Warnings:<br/>[1] Covariance matrix calculated using the outer product of gradients (complex-step)."
            ],
            "text/latex": "\\begin{center}\n\\begin{tabular}{lclc}\n\\toprule\n\\textbf{Dep. Variable:}          &     Thousands of Passengers      & \\textbf{  No. Observations:  } &     84      \\\\\n\\textbf{Model:}                  & SARIMAX(10, 2, 5)x(10, 2, 5, 12) & \\textbf{  Log Likelihood     } &  -219.442   \\\\\n\\textbf{Date:}                   &         Fri, 26 Jan 2024         & \\textbf{  AIC                } &  500.884    \\\\\n\\textbf{Time:}                   &             18:10:37             & \\textbf{  BIC                } &  564.758    \\\\\n\\textbf{Sample:}                 &            01-01-1949            & \\textbf{  HQIC               } &  525.764    \\\\\n\\textbf{}                        &           - 12-01-1955           & \\textbf{                     } &             \\\\\n\\textbf{Covariance Type:}        &               opg                & \\textbf{                     } &             \\\\\n\\bottomrule\n\\end{tabular}\n\\begin{tabular}{lcccccc}\n                   & \\textbf{coef} & \\textbf{std err} & \\textbf{z} & \\textbf{P$> |$z$|$} & \\textbf{[0.025} & \\textbf{0.975]}  \\\\\n\\midrule\n\\textbf{ar.L1}     &      -0.6978  &       12.899     &    -0.054  &         0.957        &      -25.980    &       24.585     \\\\\n\\textbf{ar.L2}     &      -0.4668  &        5.327     &    -0.088  &         0.930        &      -10.907    &        9.973     \\\\\n\\textbf{ar.L3}     &      -0.2129  &        6.519     &    -0.033  &         0.974        &      -12.990    &       12.564     \\\\\n\\textbf{ar.L4}     &      -0.6863  &        8.399     &    -0.082  &         0.935        &      -17.147    &       15.775     \\\\\n\\textbf{ar.L5}     &      -0.1821  &        4.338     &    -0.042  &         0.967        &       -8.684    &        8.320     \\\\\n\\textbf{ar.L6}     &       0.2033  &        3.889     &     0.052  &         0.958        &       -7.419    &        7.826     \\\\\n\\textbf{ar.L7}     &       0.0304  &        2.085     &     0.015  &         0.988        &       -4.056    &        4.116     \\\\\n\\textbf{ar.L8}     &       0.1593  &        1.359     &     0.117  &         0.907        &       -2.505    &        2.824     \\\\\n\\textbf{ar.L9}     &       0.2909  &        2.566     &     0.113  &         0.910        &       -4.738    &        5.319     \\\\\n\\textbf{ar.L10}    &       0.2079  &        3.020     &     0.069  &         0.945        &       -5.711    &        6.126     \\\\\n\\textbf{ma.L1}     &      -0.6771  &       20.909     &    -0.032  &         0.974        &      -41.658    &       40.303     \\\\\n\\textbf{ma.L2}     &      -0.0080  &       16.881     &    -0.000  &         1.000        &      -33.094    &       33.078     \\\\\n\\textbf{ma.L3}     &      -0.4012  &        7.329     &    -0.055  &         0.956        &      -14.765    &       13.963     \\\\\n\\textbf{ma.L4}     &       0.7629  &       11.310     &     0.067  &         0.946        &      -21.405    &       22.931     \\\\\n\\textbf{ma.L5}     &      -0.6712  &       14.698     &    -0.046  &         0.964        &      -29.479    &       28.137     \\\\\n\\textbf{ar.S.L12}  &       0.2655  &      546.314     &     0.000  &         1.000        &    -1070.491    &     1071.022     \\\\\n\\textbf{ar.S.L24}  &      -0.0713  &      240.497     &    -0.000  &         1.000        &     -471.436    &      471.294     \\\\\n\\textbf{ar.S.L36}  &      -0.5280  &      870.024     &    -0.001  &         1.000        &    -1705.743    &     1704.687     \\\\\n\\textbf{ar.S.L48}  &       0.1879  &      692.896     &     0.000  &         1.000        &    -1357.863    &     1358.239     \\\\\n\\textbf{ar.S.L60}  &       0.4734  &      245.953     &     0.002  &         0.998        &     -481.585    &      482.532     \\\\\n\\textbf{ar.S.L72}  &      -0.3031  &      587.194     &    -0.001  &         1.000        &    -1151.183    &     1150.577     \\\\\n\\textbf{ar.S.L84}  &      -0.0689  &      303.897     &    -0.000  &         1.000        &     -595.696    &      595.558     \\\\\n\\textbf{ar.S.L96}  &       0.5529  &      896.814     &     0.001  &         1.000        &    -1757.171    &     1758.277     \\\\\n\\textbf{ar.S.L108} &      -0.5163  &      747.079     &    -0.001  &         0.999        &    -1464.765    &     1463.733     \\\\\n\\textbf{ar.S.L120} &       0.1459  &      398.434     &     0.000  &         1.000        &     -780.771    &      781.062     \\\\\n\\textbf{ma.S.L12}  &      -0.3223  &     2955.515     &    -0.000  &         1.000        &    -5793.025    &     5792.380     \\\\\n\\textbf{ma.S.L24}  &      -0.7467  &     1425.900     &    -0.001  &         1.000        &    -2795.459    &     2793.965     \\\\\n\\textbf{ma.S.L36}  &      -0.2173  &     1288.198     &    -0.000  &         1.000        &    -2525.039    &     2524.605     \\\\\n\\textbf{ma.S.L48}  &      -0.0714  &     1063.073     & -6.71e-05  &         1.000        &    -2083.656    &     2083.513     \\\\\n\\textbf{ma.S.L60}  &       0.5037  &     1895.313     &     0.000  &         1.000        &    -3714.241    &     3715.248     \\\\\n\\textbf{sigma2}    &       5.8888  &     1.07e+04     &     0.001  &         1.000        &    -2.09e+04    &      2.1e+04     \\\\\n\\bottomrule\n\\end{tabular}\n\\begin{tabular}{lclc}\n\\textbf{Ljung-Box (L1) (Q):}     & 0.00 & \\textbf{  Jarque-Bera (JB):  } & 1.19  \\\\\n\\textbf{Prob(Q):}                & 0.97 & \\textbf{  Prob(JB):          } & 0.55  \\\\\n\\textbf{Heteroskedasticity (H):} & 1.72 & \\textbf{  Skew:              } & 0.33  \\\\\n\\textbf{Prob(H) (two-sided):}    & 0.24 & \\textbf{  Kurtosis:          } & 3.21  \\\\\n\\bottomrule\n\\end{tabular}\n%\\caption{SARIMAX Results}\n\\end{center}\n\nWarnings: \\newline\n [1] Covariance matrix calculated using the outer product of gradients (complex-step)."
          },
          "metadata": {},
          "execution_count": 406
        }
      ],
      "source": [
        "model_SARIMA_fit.summary()"
      ]
    },
    {
      "cell_type": "code",
      "execution_count": 407,
      "id": "7b8fc9aa",
      "metadata": {
        "id": "7b8fc9aa",
        "colab": {
          "base_uri": "https://localhost:8080/",
          "height": 143
        },
        "outputId": "8fde9354-ec34-41da-dd62-670a8a531077"
      },
      "outputs": [
        {
          "output_type": "execute_result",
          "data": {
            "text/plain": [
              "            Thousands of Passengers  Passengers First Difference  \\\n",
              "Month                                                              \n",
              "1960-11-01                    390.0                        -71.0   \n",
              "1960-12-01                    432.0                         42.0   \n",
              "\n",
              "            Passengers Second Difference  Passengers 12 Difference  \\\n",
              "Month                                                                \n",
              "1960-11-01                         -24.0                      28.0   \n",
              "1960-12-01                         113.0                      27.0   \n",
              "\n",
              "            Predicted_ARIMA  Predicted_SARIMA  \n",
              "Month                                          \n",
              "1960-11-01       421.246117        339.648953  \n",
              "1960-12-01       434.944617        376.715957  "
            ],
            "text/html": [
              "\n",
              "  <div id=\"df-1b0ddf61-ebf7-44dc-a998-9e1baa2a8482\" class=\"colab-df-container\">\n",
              "    <div>\n",
              "<style scoped>\n",
              "    .dataframe tbody tr th:only-of-type {\n",
              "        vertical-align: middle;\n",
              "    }\n",
              "\n",
              "    .dataframe tbody tr th {\n",
              "        vertical-align: top;\n",
              "    }\n",
              "\n",
              "    .dataframe thead th {\n",
              "        text-align: right;\n",
              "    }\n",
              "</style>\n",
              "<table border=\"1\" class=\"dataframe\">\n",
              "  <thead>\n",
              "    <tr style=\"text-align: right;\">\n",
              "      <th></th>\n",
              "      <th>Thousands of Passengers</th>\n",
              "      <th>Passengers First Difference</th>\n",
              "      <th>Passengers Second Difference</th>\n",
              "      <th>Passengers 12 Difference</th>\n",
              "      <th>Predicted_ARIMA</th>\n",
              "      <th>Predicted_SARIMA</th>\n",
              "    </tr>\n",
              "    <tr>\n",
              "      <th>Month</th>\n",
              "      <th></th>\n",
              "      <th></th>\n",
              "      <th></th>\n",
              "      <th></th>\n",
              "      <th></th>\n",
              "      <th></th>\n",
              "    </tr>\n",
              "  </thead>\n",
              "  <tbody>\n",
              "    <tr>\n",
              "      <th>1960-11-01</th>\n",
              "      <td>390.0</td>\n",
              "      <td>-71.0</td>\n",
              "      <td>-24.0</td>\n",
              "      <td>28.0</td>\n",
              "      <td>421.246117</td>\n",
              "      <td>339.648953</td>\n",
              "    </tr>\n",
              "    <tr>\n",
              "      <th>1960-12-01</th>\n",
              "      <td>432.0</td>\n",
              "      <td>42.0</td>\n",
              "      <td>113.0</td>\n",
              "      <td>27.0</td>\n",
              "      <td>434.944617</td>\n",
              "      <td>376.715957</td>\n",
              "    </tr>\n",
              "  </tbody>\n",
              "</table>\n",
              "</div>\n",
              "    <div class=\"colab-df-buttons\">\n",
              "\n",
              "  <div class=\"colab-df-container\">\n",
              "    <button class=\"colab-df-convert\" onclick=\"convertToInteractive('df-1b0ddf61-ebf7-44dc-a998-9e1baa2a8482')\"\n",
              "            title=\"Convert this dataframe to an interactive table.\"\n",
              "            style=\"display:none;\">\n",
              "\n",
              "  <svg xmlns=\"http://www.w3.org/2000/svg\" height=\"24px\" viewBox=\"0 -960 960 960\">\n",
              "    <path d=\"M120-120v-720h720v720H120Zm60-500h600v-160H180v160Zm220 220h160v-160H400v160Zm0 220h160v-160H400v160ZM180-400h160v-160H180v160Zm440 0h160v-160H620v160ZM180-180h160v-160H180v160Zm440 0h160v-160H620v160Z\"/>\n",
              "  </svg>\n",
              "    </button>\n",
              "\n",
              "  <style>\n",
              "    .colab-df-container {\n",
              "      display:flex;\n",
              "      gap: 12px;\n",
              "    }\n",
              "\n",
              "    .colab-df-convert {\n",
              "      background-color: #E8F0FE;\n",
              "      border: none;\n",
              "      border-radius: 50%;\n",
              "      cursor: pointer;\n",
              "      display: none;\n",
              "      fill: #1967D2;\n",
              "      height: 32px;\n",
              "      padding: 0 0 0 0;\n",
              "      width: 32px;\n",
              "    }\n",
              "\n",
              "    .colab-df-convert:hover {\n",
              "      background-color: #E2EBFA;\n",
              "      box-shadow: 0px 1px 2px rgba(60, 64, 67, 0.3), 0px 1px 3px 1px rgba(60, 64, 67, 0.15);\n",
              "      fill: #174EA6;\n",
              "    }\n",
              "\n",
              "    .colab-df-buttons div {\n",
              "      margin-bottom: 4px;\n",
              "    }\n",
              "\n",
              "    [theme=dark] .colab-df-convert {\n",
              "      background-color: #3B4455;\n",
              "      fill: #D2E3FC;\n",
              "    }\n",
              "\n",
              "    [theme=dark] .colab-df-convert:hover {\n",
              "      background-color: #434B5C;\n",
              "      box-shadow: 0px 1px 3px 1px rgba(0, 0, 0, 0.15);\n",
              "      filter: drop-shadow(0px 1px 2px rgba(0, 0, 0, 0.3));\n",
              "      fill: #FFFFFF;\n",
              "    }\n",
              "  </style>\n",
              "\n",
              "    <script>\n",
              "      const buttonEl =\n",
              "        document.querySelector('#df-1b0ddf61-ebf7-44dc-a998-9e1baa2a8482 button.colab-df-convert');\n",
              "      buttonEl.style.display =\n",
              "        google.colab.kernel.accessAllowed ? 'block' : 'none';\n",
              "\n",
              "      async function convertToInteractive(key) {\n",
              "        const element = document.querySelector('#df-1b0ddf61-ebf7-44dc-a998-9e1baa2a8482');\n",
              "        const dataTable =\n",
              "          await google.colab.kernel.invokeFunction('convertToInteractive',\n",
              "                                                    [key], {});\n",
              "        if (!dataTable) return;\n",
              "\n",
              "        const docLinkHtml = 'Like what you see? Visit the ' +\n",
              "          '<a target=\"_blank\" href=https://colab.research.google.com/notebooks/data_table.ipynb>data table notebook</a>'\n",
              "          + ' to learn more about interactive tables.';\n",
              "        element.innerHTML = '';\n",
              "        dataTable['output_type'] = 'display_data';\n",
              "        await google.colab.output.renderOutput(dataTable, element);\n",
              "        const docLink = document.createElement('div');\n",
              "        docLink.innerHTML = docLinkHtml;\n",
              "        element.appendChild(docLink);\n",
              "      }\n",
              "    </script>\n",
              "  </div>\n",
              "\n",
              "\n",
              "<div id=\"df-640e8add-a411-43c1-b129-57cf9cd16fcd\">\n",
              "  <button class=\"colab-df-quickchart\" onclick=\"quickchart('df-640e8add-a411-43c1-b129-57cf9cd16fcd')\"\n",
              "            title=\"Suggest charts\"\n",
              "            style=\"display:none;\">\n",
              "\n",
              "<svg xmlns=\"http://www.w3.org/2000/svg\" height=\"24px\"viewBox=\"0 0 24 24\"\n",
              "     width=\"24px\">\n",
              "    <g>\n",
              "        <path d=\"M19 3H5c-1.1 0-2 .9-2 2v14c0 1.1.9 2 2 2h14c1.1 0 2-.9 2-2V5c0-1.1-.9-2-2-2zM9 17H7v-7h2v7zm4 0h-2V7h2v10zm4 0h-2v-4h2v4z\"/>\n",
              "    </g>\n",
              "</svg>\n",
              "  </button>\n",
              "\n",
              "<style>\n",
              "  .colab-df-quickchart {\n",
              "      --bg-color: #E8F0FE;\n",
              "      --fill-color: #1967D2;\n",
              "      --hover-bg-color: #E2EBFA;\n",
              "      --hover-fill-color: #174EA6;\n",
              "      --disabled-fill-color: #AAA;\n",
              "      --disabled-bg-color: #DDD;\n",
              "  }\n",
              "\n",
              "  [theme=dark] .colab-df-quickchart {\n",
              "      --bg-color: #3B4455;\n",
              "      --fill-color: #D2E3FC;\n",
              "      --hover-bg-color: #434B5C;\n",
              "      --hover-fill-color: #FFFFFF;\n",
              "      --disabled-bg-color: #3B4455;\n",
              "      --disabled-fill-color: #666;\n",
              "  }\n",
              "\n",
              "  .colab-df-quickchart {\n",
              "    background-color: var(--bg-color);\n",
              "    border: none;\n",
              "    border-radius: 50%;\n",
              "    cursor: pointer;\n",
              "    display: none;\n",
              "    fill: var(--fill-color);\n",
              "    height: 32px;\n",
              "    padding: 0;\n",
              "    width: 32px;\n",
              "  }\n",
              "\n",
              "  .colab-df-quickchart:hover {\n",
              "    background-color: var(--hover-bg-color);\n",
              "    box-shadow: 0 1px 2px rgba(60, 64, 67, 0.3), 0 1px 3px 1px rgba(60, 64, 67, 0.15);\n",
              "    fill: var(--button-hover-fill-color);\n",
              "  }\n",
              "\n",
              "  .colab-df-quickchart-complete:disabled,\n",
              "  .colab-df-quickchart-complete:disabled:hover {\n",
              "    background-color: var(--disabled-bg-color);\n",
              "    fill: var(--disabled-fill-color);\n",
              "    box-shadow: none;\n",
              "  }\n",
              "\n",
              "  .colab-df-spinner {\n",
              "    border: 2px solid var(--fill-color);\n",
              "    border-color: transparent;\n",
              "    border-bottom-color: var(--fill-color);\n",
              "    animation:\n",
              "      spin 1s steps(1) infinite;\n",
              "  }\n",
              "\n",
              "  @keyframes spin {\n",
              "    0% {\n",
              "      border-color: transparent;\n",
              "      border-bottom-color: var(--fill-color);\n",
              "      border-left-color: var(--fill-color);\n",
              "    }\n",
              "    20% {\n",
              "      border-color: transparent;\n",
              "      border-left-color: var(--fill-color);\n",
              "      border-top-color: var(--fill-color);\n",
              "    }\n",
              "    30% {\n",
              "      border-color: transparent;\n",
              "      border-left-color: var(--fill-color);\n",
              "      border-top-color: var(--fill-color);\n",
              "      border-right-color: var(--fill-color);\n",
              "    }\n",
              "    40% {\n",
              "      border-color: transparent;\n",
              "      border-right-color: var(--fill-color);\n",
              "      border-top-color: var(--fill-color);\n",
              "    }\n",
              "    60% {\n",
              "      border-color: transparent;\n",
              "      border-right-color: var(--fill-color);\n",
              "    }\n",
              "    80% {\n",
              "      border-color: transparent;\n",
              "      border-right-color: var(--fill-color);\n",
              "      border-bottom-color: var(--fill-color);\n",
              "    }\n",
              "    90% {\n",
              "      border-color: transparent;\n",
              "      border-bottom-color: var(--fill-color);\n",
              "    }\n",
              "  }\n",
              "</style>\n",
              "\n",
              "  <script>\n",
              "    async function quickchart(key) {\n",
              "      const quickchartButtonEl =\n",
              "        document.querySelector('#' + key + ' button');\n",
              "      quickchartButtonEl.disabled = true;  // To prevent multiple clicks.\n",
              "      quickchartButtonEl.classList.add('colab-df-spinner');\n",
              "      try {\n",
              "        const charts = await google.colab.kernel.invokeFunction(\n",
              "            'suggestCharts', [key], {});\n",
              "      } catch (error) {\n",
              "        console.error('Error during call to suggestCharts:', error);\n",
              "      }\n",
              "      quickchartButtonEl.classList.remove('colab-df-spinner');\n",
              "      quickchartButtonEl.classList.add('colab-df-quickchart-complete');\n",
              "    }\n",
              "    (() => {\n",
              "      let quickchartButtonEl =\n",
              "        document.querySelector('#df-640e8add-a411-43c1-b129-57cf9cd16fcd button');\n",
              "      quickchartButtonEl.style.display =\n",
              "        google.colab.kernel.accessAllowed ? 'block' : 'none';\n",
              "    })();\n",
              "  </script>\n",
              "</div>\n",
              "\n",
              "    </div>\n",
              "  </div>\n"
            ]
          },
          "metadata": {},
          "execution_count": 407
        }
      ],
      "source": [
        "test_data.tail(2)"
      ]
    },
    {
      "cell_type": "code",
      "execution_count": 408,
      "id": "1eee263a",
      "metadata": {
        "id": "1eee263a",
        "colab": {
          "base_uri": "https://localhost:8080/"
        },
        "outputId": "b5800c9c-f4c0-4244-b488-cb77f599e923"
      },
      "outputs": [
        {
          "output_type": "stream",
          "name": "stdout",
          "text": [
            "1956-01-01 00:00:00\n",
            "1960-12-01 00:00:00\n"
          ]
        }
      ],
      "source": [
        "##prediction\n",
        "pred_start_date=test_data.index[0]\n",
        "pred_end_date=test_data.index[-1]\n",
        "print(pred_start_date)\n",
        "print(pred_end_date)"
      ]
    },
    {
      "cell_type": "code",
      "execution_count": 409,
      "id": "1f412af2",
      "metadata": {
        "id": "1f412af2"
      },
      "outputs": [],
      "source": [
        "pred_Sarima=model_SARIMA_fit.predict(start=datetime(1956,6,6),end=datetime(1960,12,1))\n",
        "residuals=test_data['Thousands of Passengers']-pred_Sarima"
      ]
    },
    {
      "cell_type": "code",
      "execution_count": 410,
      "id": "7d168cc2",
      "metadata": {
        "id": "7d168cc2",
        "colab": {
          "base_uri": "https://localhost:8080/",
          "height": 466
        },
        "outputId": "a948d71d-bd97-4d3a-8859-48052c396611"
      },
      "outputs": [
        {
          "output_type": "execute_result",
          "data": {
            "text/plain": [
              "<Axes: xlabel='Month'>"
            ]
          },
          "metadata": {},
          "execution_count": 410
        },
        {
          "output_type": "display_data",
          "data": {
            "text/plain": [
              "<Figure size 640x480 with 1 Axes>"
            ],
            "image/png": "[encoded data removed]"
          },
          "metadata": {}
        }
      ],
      "source": [
        "model_SARIMA_fit.resid.plot()"
      ]
    },
    {
      "cell_type": "code",
      "execution_count": 411,
      "id": "6e9bf0c3",
      "metadata": {
        "id": "6e9bf0c3",
        "colab": {
          "base_uri": "https://localhost:8080/",
          "height": 447
        },
        "outputId": "6301e967-942d-45c6-86e9-d0427c105da9"
      },
      "outputs": [
        {
          "output_type": "execute_result",
          "data": {
            "text/plain": [
              "<Axes: ylabel='Density'>"
            ]
          },
          "metadata": {},
          "execution_count": 411
        },
        {
          "output_type": "display_data",
          "data": {
            "text/plain": [
              "<Figure size 640x480 with 1 Axes>"
            ],
            "image/png": "[encoded data removed]"
          },
          "metadata": {}
        }
      ],
      "source": [
        "model_SARIMA_fit.resid.plot(kind='kde')"
      ]
    },
    {
      "cell_type": "code",
      "execution_count": 412,
      "id": "881e896f",
      "metadata": {
        "id": "881e896f",
        "colab": {
          "base_uri": "https://localhost:8080/"
        },
        "outputId": "8ea0fc4d-6c58-41ec-8ed2-91e3133c93f7"
      },
      "outputs": [
        {
          "output_type": "stream",
          "name": "stderr",
          "text": [
            "<ipython-input-412-5be0f969ecf6>:1: SettingWithCopyWarning: \n",
            "A value is trying to be set on a copy of a slice from a DataFrame.\n",
            "Try using .loc[row_indexer,col_indexer] = value instead\n",
            "\n",
            "See the caveats in the documentation: https://pandas.pydata.org/pandas-docs/stable/user_guide/indexing.html#returning-a-view-versus-a-copy\n",
            "  test_data['Predicted_SARIMA']=pred_Sarima\n"
          ]
        }
      ],
      "source": [
        "test_data['Predicted_SARIMA']=pred_Sarima"
      ]
    },
    {
      "cell_type": "code",
      "execution_count": 413,
      "id": "bf0c3078",
      "metadata": {
        "id": "bf0c3078",
        "colab": {
          "base_uri": "https://localhost:8080/",
          "height": 143
        },
        "outputId": "b2b4ad27-5416-44ce-c2d9-6185d7642453"
      },
      "outputs": [
        {
          "output_type": "execute_result",
          "data": {
            "text/plain": [
              "            Thousands of Passengers  Passengers First Difference  \\\n",
              "Month                                                              \n",
              "1956-01-01                    284.0                          6.0   \n",
              "1956-02-01                    277.0                         -7.0   \n",
              "\n",
              "            Passengers Second Difference  Passengers 12 Difference  \\\n",
              "Month                                                                \n",
              "1956-01-01                         -35.0                      42.0   \n",
              "1956-02-01                         -13.0                      44.0   \n",
              "\n",
              "            Predicted_ARIMA  Predicted_SARIMA  \n",
              "Month                                          \n",
              "1956-01-01       286.353610               NaN  \n",
              "1956-02-01       281.367623               NaN  "
            ],
            "text/html": [
              "\n",
              "  <div id=\"df-8a452c1d-3506-44f2-bcd9-2598b9743cb8\" class=\"colab-df-container\">\n",
              "    <div>\n",
              "<style scoped>\n",
              "    .dataframe tbody tr th:only-of-type {\n",
              "        vertical-align: middle;\n",
              "    }\n",
              "\n",
              "    .dataframe tbody tr th {\n",
              "        vertical-align: top;\n",
              "    }\n",
              "\n",
              "    .dataframe thead th {\n",
              "        text-align: right;\n",
              "    }\n",
              "</style>\n",
              "<table border=\"1\" class=\"dataframe\">\n",
              "  <thead>\n",
              "    <tr style=\"text-align: right;\">\n",
              "      <th></th>\n",
              "      <th>Thousands of Passengers</th>\n",
              "      <th>Passengers First Difference</th>\n",
              "      <th>Passengers Second Difference</th>\n",
              "      <th>Passengers 12 Difference</th>\n",
              "      <th>Predicted_ARIMA</th>\n",
              "      <th>Predicted_SARIMA</th>\n",
              "    </tr>\n",
              "    <tr>\n",
              "      <th>Month</th>\n",
              "      <th></th>\n",
              "      <th></th>\n",
              "      <th></th>\n",
              "      <th></th>\n",
              "      <th></th>\n",
              "      <th></th>\n",
              "    </tr>\n",
              "  </thead>\n",
              "  <tbody>\n",
              "    <tr>\n",
              "      <th>1956-01-01</th>\n",
              "      <td>284.0</td>\n",
              "      <td>6.0</td>\n",
              "      <td>-35.0</td>\n",
              "      <td>42.0</td>\n",
              "      <td>286.353610</td>\n",
              "      <td>NaN</td>\n",
              "    </tr>\n",
              "    <tr>\n",
              "      <th>1956-02-01</th>\n",
              "      <td>277.0</td>\n",
              "      <td>-7.0</td>\n",
              "      <td>-13.0</td>\n",
              "      <td>44.0</td>\n",
              "      <td>281.367623</td>\n",
              "      <td>NaN</td>\n",
              "    </tr>\n",
              "  </tbody>\n",
              "</table>\n",
              "</div>\n",
              "    <div class=\"colab-df-buttons\">\n",
              "\n",
              "  <div class=\"colab-df-container\">\n",
              "    <button class=\"colab-df-convert\" onclick=\"convertToInteractive('df-8a452c1d-3506-44f2-bcd9-2598b9743cb8')\"\n",
              "            title=\"Convert this dataframe to an interactive table.\"\n",
              "            style=\"display:none;\">\n",
              "\n",
              "  <svg xmlns=\"http://www.w3.org/2000/svg\" height=\"24px\" viewBox=\"0 -960 960 960\">\n",
              "    <path d=\"M120-120v-720h720v720H120Zm60-500h600v-160H180v160Zm220 220h160v-160H400v160Zm0 220h160v-160H400v160ZM180-400h160v-160H180v160Zm440 0h160v-160H620v160ZM180-180h160v-160H180v160Zm440 0h160v-160H620v160Z\"/>\n",
              "  </svg>\n",
              "    </button>\n",
              "\n",
              "  <style>\n",
              "    .colab-df-container {\n",
              "      display:flex;\n",
              "      gap: 12px;\n",
              "    }\n",
              "\n",
              "    .colab-df-convert {\n",
              "      background-color: #E8F0FE;\n",
              "      border: none;\n",
              "      border-radius: 50%;\n",
              "      cursor: pointer;\n",
              "      display: none;\n",
              "      fill: #1967D2;\n",
              "      height: 32px;\n",
              "      padding: 0 0 0 0;\n",
              "      width: 32px;\n",
              "    }\n",
              "\n",
              "    .colab-df-convert:hover {\n",
              "      background-color: #E2EBFA;\n",
              "      box-shadow: 0px 1px 2px rgba(60, 64, 67, 0.3), 0px 1px 3px 1px rgba(60, 64, 67, 0.15);\n",
              "      fill: #174EA6;\n",
              "    }\n",
              "\n",
              "    .colab-df-buttons div {\n",
              "      margin-bottom: 4px;\n",
              "    }\n",
              "\n",
              "    [theme=dark] .colab-df-convert {\n",
              "      background-color: #3B4455;\n",
              "      fill: #D2E3FC;\n",
              "    }\n",
              "\n",
              "    [theme=dark] .colab-df-convert:hover {\n",
              "      background-color: #434B5C;\n",
              "      box-shadow: 0px 1px 3px 1px rgba(0, 0, 0, 0.15);\n",
              "      filter: drop-shadow(0px 1px 2px rgba(0, 0, 0, 0.3));\n",
              "      fill: #FFFFFF;\n",
              "    }\n",
              "  </style>\n",
              "\n",
              "    <script>\n",
              "      const buttonEl =\n",
              "        document.querySelector('#df-8a452c1d-3506-44f2-bcd9-2598b9743cb8 button.colab-df-convert');\n",
              "      buttonEl.style.display =\n",
              "        google.colab.kernel.accessAllowed ? 'block' : 'none';\n",
              "\n",
              "      async function convertToInteractive(key) {\n",
              "        const element = document.querySelector('#df-8a452c1d-3506-44f2-bcd9-2598b9743cb8');\n",
              "        const dataTable =\n",
              "          await google.colab.kernel.invokeFunction('convertToInteractive',\n",
              "                                                    [key], {});\n",
              "        if (!dataTable) return;\n",
              "\n",
              "        const docLinkHtml = 'Like what you see? Visit the ' +\n",
              "          '<a target=\"_blank\" href=https://colab.research.google.com/notebooks/data_table.ipynb>data table notebook</a>'\n",
              "          + ' to learn more about interactive tables.';\n",
              "        element.innerHTML = '';\n",
              "        dataTable['output_type'] = 'display_data';\n",
              "        await google.colab.output.renderOutput(dataTable, element);\n",
              "        const docLink = document.createElement('div');\n",
              "        docLink.innerHTML = docLinkHtml;\n",
              "        element.appendChild(docLink);\n",
              "      }\n",
              "    </script>\n",
              "  </div>\n",
              "\n",
              "\n",
              "<div id=\"df-8dde8901-d7a4-4296-bf01-28f7d875841f\">\n",
              "  <button class=\"colab-df-quickchart\" onclick=\"quickchart('df-8dde8901-d7a4-4296-bf01-28f7d875841f')\"\n",
              "            title=\"Suggest charts\"\n",
              "            style=\"display:none;\">\n",
              "\n",
              "<svg xmlns=\"http://www.w3.org/2000/svg\" height=\"24px\"viewBox=\"0 0 24 24\"\n",
              "     width=\"24px\">\n",
              "    <g>\n",
              "        <path d=\"M19 3H5c-1.1 0-2 .9-2 2v14c0 1.1.9 2 2 2h14c1.1 0 2-.9 2-2V5c0-1.1-.9-2-2-2zM9 17H7v-7h2v7zm4 0h-2V7h2v10zm4 0h-2v-4h2v4z\"/>\n",
              "    </g>\n",
              "</svg>\n",
              "  </button>\n",
              "\n",
              "<style>\n",
              "  .colab-df-quickchart {\n",
              "      --bg-color: #E8F0FE;\n",
              "      --fill-color: #1967D2;\n",
              "      --hover-bg-color: #E2EBFA;\n",
              "      --hover-fill-color: #174EA6;\n",
              "      --disabled-fill-color: #AAA;\n",
              "      --disabled-bg-color: #DDD;\n",
              "  }\n",
              "\n",
              "  [theme=dark] .colab-df-quickchart {\n",
              "      --bg-color: #3B4455;\n",
              "      --fill-color: #D2E3FC;\n",
              "      --hover-bg-color: #434B5C;\n",
              "      --hover-fill-color: #FFFFFF;\n",
              "      --disabled-bg-color: #3B4455;\n",
              "      --disabled-fill-color: #666;\n",
              "  }\n",
              "\n",
              "  .colab-df-quickchart {\n",
              "    background-color: var(--bg-color);\n",
              "    border: none;\n",
              "    border-radius: 50%;\n",
              "    cursor: pointer;\n",
              "    display: none;\n",
              "    fill: var(--fill-color);\n",
              "    height: 32px;\n",
              "    padding: 0;\n",
              "    width: 32px;\n",
              "  }\n",
              "\n",
              "  .colab-df-quickchart:hover {\n",
              "    background-color: var(--hover-bg-color);\n",
              "    box-shadow: 0 1px 2px rgba(60, 64, 67, 0.3), 0 1px 3px 1px rgba(60, 64, 67, 0.15);\n",
              "    fill: var(--button-hover-fill-color);\n",
              "  }\n",
              "\n",
              "  .colab-df-quickchart-complete:disabled,\n",
              "  .colab-df-quickchart-complete:disabled:hover {\n",
              "    background-color: var(--disabled-bg-color);\n",
              "    fill: var(--disabled-fill-color);\n",
              "    box-shadow: none;\n",
              "  }\n",
              "\n",
              "  .colab-df-spinner {\n",
              "    border: 2px solid var(--fill-color);\n",
              "    border-color: transparent;\n",
              "    border-bottom-color: var(--fill-color);\n",
              "    animation:\n",
              "      spin 1s steps(1) infinite;\n",
              "  }\n",
              "\n",
              "  @keyframes spin {\n",
              "    0% {\n",
              "      border-color: transparent;\n",
              "      border-bottom-color: var(--fill-color);\n",
              "      border-left-color: var(--fill-color);\n",
              "    }\n",
              "    20% {\n",
              "      border-color: transparent;\n",
              "      border-left-color: var(--fill-color);\n",
              "      border-top-color: var(--fill-color);\n",
              "    }\n",
              "    30% {\n",
              "      border-color: transparent;\n",
              "      border-left-color: var(--fill-color);\n",
              "      border-top-color: var(--fill-color);\n",
              "      border-right-color: var(--fill-color);\n",
              "    }\n",
              "    40% {\n",
              "      border-color: transparent;\n",
              "      border-right-color: var(--fill-color);\n",
              "      border-top-color: var(--fill-color);\n",
              "    }\n",
              "    60% {\n",
              "      border-color: transparent;\n",
              "      border-right-color: var(--fill-color);\n",
              "    }\n",
              "    80% {\n",
              "      border-color: transparent;\n",
              "      border-right-color: var(--fill-color);\n",
              "      border-bottom-color: var(--fill-color);\n",
              "    }\n",
              "    90% {\n",
              "      border-color: transparent;\n",
              "      border-bottom-color: var(--fill-color);\n",
              "    }\n",
              "  }\n",
              "</style>\n",
              "\n",
              "  <script>\n",
              "    async function quickchart(key) {\n",
              "      const quickchartButtonEl =\n",
              "        document.querySelector('#' + key + ' button');\n",
              "      quickchartButtonEl.disabled = true;  // To prevent multiple clicks.\n",
              "      quickchartButtonEl.classList.add('colab-df-spinner');\n",
              "      try {\n",
              "        const charts = await google.colab.kernel.invokeFunction(\n",
              "            'suggestCharts', [key], {});\n",
              "      } catch (error) {\n",
              "        console.error('Error during call to suggestCharts:', error);\n",
              "      }\n",
              "      quickchartButtonEl.classList.remove('colab-df-spinner');\n",
              "      quickchartButtonEl.classList.add('colab-df-quickchart-complete');\n",
              "    }\n",
              "    (() => {\n",
              "      let quickchartButtonEl =\n",
              "        document.querySelector('#df-8dde8901-d7a4-4296-bf01-28f7d875841f button');\n",
              "      quickchartButtonEl.style.display =\n",
              "        google.colab.kernel.accessAllowed ? 'block' : 'none';\n",
              "    })();\n",
              "  </script>\n",
              "</div>\n",
              "\n",
              "    </div>\n",
              "  </div>\n"
            ]
          },
          "metadata": {},
          "execution_count": 413
        }
      ],
      "source": [
        "test_data.head(2)"
      ]
    },
    {
      "cell_type": "code",
      "source": [
        "test_data[['Thousands of Passengers','Predicted_SARIMA','Predicted_ARIMA']].plot()"
      ],
      "metadata": {
        "colab": {
          "base_uri": "https://localhost:8080/",
          "height": 466
        },
        "id": "GXoGx0amvhuK",
        "outputId": "f94128b7-9c8f-4778-c8df-86a2e891d500"
      },
      "id": "GXoGx0amvhuK",
      "execution_count": 414,
      "outputs": [
        {
          "output_type": "execute_result",
          "data": {
            "text/plain": [
              "<Axes: xlabel='Month'>"
            ]
          },
          "metadata": {},
          "execution_count": 414
        },
        {
          "output_type": "display_data",
          "data": {
            "text/plain": [
              "<Figure size 640x480 with 1 Axes>"
            ],
            "image/png": "[encoded data removed]"
          },
          "metadata": {}
        }
      ]
    },
    {
      "cell_type": "code",
      "source": [],
      "metadata": {
        "id": "nJN8bC14vhnR"
      },
      "id": "nJN8bC14vhnR",
      "execution_count": 312,
      "outputs": []
    },
    {
      "cell_type": "code",
      "execution_count": null,
      "id": "c4ed646d",
      "metadata": {
        "id": "c4ed646d",
        "colab": {
          "base_uri": "https://localhost:8080/",
          "height": 466
        },
        "outputId": "aa337cdf-369c-4b72-9bb1-728ba62e8911"
      },
      "outputs": [
        {
          "output_type": "execute_result",
          "data": {
            "text/plain": [
              "<Axes: xlabel='Month'>"
            ]
          },
          "metadata": {},
          "execution_count": 214
        },
        {
          "output_type": "display_data",
          "data": {
            "text/plain": [
              "<Figure size 640x480 with 1 Axes>"
            ],
            "image/png": "[encoded data removed]"
          },
          "metadata": {}
        }
      ],
      "source": [
        "test_data[['Thousands of Passengers','Predicted_SARIMA','Predicted_ARIMA']].plot()"
      ]
    },
    {
      "cell_type": "code",
      "execution_count": null,
      "id": "493565dc",
      "metadata": {
        "id": "493565dc"
      },
      "outputs": [],
      "source": [
        "test_data[['Thousands of Passengers','Predicted_SARIMA','Predicted_ARIMA']].plot()\n"
      ]
    },
    {
      "cell_type": "code",
      "source": [],
      "metadata": {
        "id": "m1RcpUeYvEFa"
      },
      "id": "m1RcpUeYvEFa",
      "execution_count": null,
      "outputs": []
    }
  ],
  "metadata": {
    "kernelspec": {
      "display_name": "Python 3",
      "name": "python3"
    },
    "language_info": {
      "codemirror_mode": {
        "name": "ipython",
        "version": 3
      },
      "file_extension": ".py",
      "mimetype": "text/x-python",
      "name": "python",
      "nbconvert_exporter": "python",
      "pygments_lexer": "ipython3",
      "version": "3.9.7"
    },
    "colab": {
      "provenance": [],
      "gpuType": "T4"
    },
    "accelerator": "GPU"
  },
  "nbformat": 4,
  "nbformat_minor": 5
}